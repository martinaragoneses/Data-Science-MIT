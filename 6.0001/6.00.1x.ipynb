{
 "metadata": {
  "name": "",
  "signature": "sha256:da9afbc50260db2b0b7bea5b972967bf519ddc04968eb6b75b1c51f8d0847ff5"
 },
 "nbformat": 3,
 "nbformat_minor": 0,
 "worksheets": [
  {
   "cells": [
    {
     "cell_type": "heading",
     "level": 1,
     "metadata": {},
     "source": [
      "6.00.1x Introduction to Computer Science and Programming Using Python"
     ]
    },
    {
     "cell_type": "heading",
     "level": 6,
     "metadata": {},
     "source": [
      "MITx (Summer 2015) "
     ]
    },
    {
     "cell_type": "heading",
     "level": 2,
     "metadata": {},
     "source": [
      "Martin Aragoneses "
     ]
    },
    {
     "cell_type": "markdown",
     "metadata": {},
     "source": [
      "All the codes (including lecture exercises, problem sets and quizzes) in this notebook have been written or modified by me. I've converted some of the codes in the lecture to Python 2.7, the version that I use. They are meant to be proof of my command of the materials covered in the course and to serve for future reference for myself and for others. I am publishing this notebook and other files in my GitHub repository (https://github.com/martinaragoneses). "
     ]
    },
    {
     "cell_type": "heading",
     "level": 2,
     "metadata": {},
     "source": [
      "Week 1"
     ]
    },
    {
     "cell_type": "markdown",
     "metadata": {},
     "source": [
      "This was just the intro week, with some basic work in conditional statements, such as:"
     ]
    },
    {
     "cell_type": "code",
     "collapsed": false,
     "input": [
      "# The two variables are given. It may be strings or not\n",
      "varA = 6 \n",
      "varB = \"Six\"\n",
      "if type(varA) == type(\"str\") or type(varB) == type(\"str\"):\n",
      "    print 'string involved'\n",
      "else:\n",
      "    if varA > varB:\n",
      "        print 'bigger'\n",
      "    elif varA == varB:\n",
      "        print 'equal'\n",
      "    elif varA < varB:\n",
      "        print 'smaller'"
     ],
     "language": "python",
     "metadata": {},
     "outputs": [
      {
       "output_type": "stream",
       "stream": "stdout",
       "text": [
        "string involved\n"
       ]
      }
     ],
     "prompt_number": 12
    },
    {
     "cell_type": "heading",
     "level": 2,
     "metadata": {},
     "source": [
      "Week 2"
     ]
    },
    {
     "cell_type": "markdown",
     "metadata": {},
     "source": [
      "This was the week that introduced looping and searching algorithms, as well as the basics of functions in Python:"
     ]
    },
    {
     "cell_type": "heading",
     "level": 3,
     "metadata": {},
     "source": [
      "A. Simple Algorithms"
     ]
    },
    {
     "cell_type": "code",
     "collapsed": false,
     "input": [
      "# Repetitive addition\n",
      "x = 3\n",
      "ans = 0\n",
      "itersLeft = x\n",
      "while itersLeft != 0:\n",
      "    ans = ans + x\n",
      "    itersLeft = itersLeft -1\n",
      "print str(x) + '*' + str(x) + ' = ' +str(ans)"
     ],
     "language": "python",
     "metadata": {},
     "outputs": [
      {
       "output_type": "stream",
       "stream": "stdout",
       "text": [
        "3*3 = 9\n"
       ]
      }
     ],
     "prompt_number": 12
    },
    {
     "cell_type": "code",
     "collapsed": false,
     "input": [
      "# Find the cube root of a perfect cube. Detect if it is not a perfect cube\n",
      "    \n",
      "x = int(raw_input('Enter an integer: '))   # We want to find the cube root of x\n",
      "ans = 0             # We initialize this cube root to be found (assumed to be an integer)\n",
      "\n",
      "while ans**3 < x:   # While ans^3 falls short form x, we keep increasing ans until...\n",
      "    ans = ans + 1\n",
      "    \n",
      "if ans**3 == x:     # ... We hit the number we were looking for (ans = x^(1/3)) ...\n",
      "    print 'Cube root of ' + str(x) + ' is ' + str(ans)\n",
      "    \n",
      "else:               # ... or there is not integer such that ans = x^(1/3), that is, it is not a perfect cube\n",
      "    print str(x) + ' is not a perfect cube '"
     ],
     "language": "python",
     "metadata": {},
     "outputs": [
      {
       "name": "stdout",
       "output_type": "stream",
       "stream": "stdout",
       "text": [
        "Enter an integer: 28\n"
       ]
      },
      {
       "output_type": "stream",
       "stream": "stdout",
       "text": [
        "28 is not a perfect cube \n"
       ]
      }
     ],
     "prompt_number": 13
    },
    {
     "cell_type": "code",
     "collapsed": false,
     "input": [
      "# Plain search algorithm for a square root. Guess-Check-Update until a result is found or we go over\n",
      "        \n",
      "x = 25              # Number whose square root we are after\n",
      "epsilon = 0.01      # Small difference for test\n",
      "step = epsilon**2   # Small step used for updating if test fails\n",
      "numGuesses = 0      # Initialize to keep track of efficiency\n",
      "ans = 0.0           # Initialize the square root we are looking for  (note it is a float)\n",
      "\n",
      "while  abs(ans**2 - x) >= epsilon and ans <= x:  # While the difference between the approximate and actual square is too big...\n",
      "                                                 # ... greater than epsilon, and we are not geing over the upper bound x...\n",
      "    ans += step     # Make ans take a small incrementing step \n",
      "    numGuesses += 1 # Keeping track of the number of guesses\n",
      "    \n",
      "print 'numGuesses = ' + str(numGuesses)\n",
      "\n",
      "if abs(ans**2-x) < epsilon:\n",
      "    print str(ans) + ' is close to the square root of ' + str(x)\n",
      "    \n",
      "else:               # We screwed up  and went over and > x while still the difference was too large abs(ans^2-x) >= epsilon:\n",
      "    print 'Failed on square root of ' + str(x)"
     ],
     "language": "python",
     "metadata": {},
     "outputs": [
      {
       "output_type": "stream",
       "stream": "stdout",
       "text": [
        "numGuesses = 49990\n",
        "4.999 is close to the square root of 25\n"
       ]
      }
     ],
     "prompt_number": 25
    },
    {
     "cell_type": "code",
     "collapsed": false,
     "input": [
      "# Bisection search algorithm for a square root\n",
      "\n",
      "y = 25           # Number whose square root we are after\n",
      "epsilon = 0.01   # Small difference for test\n",
      "numGuesses = 0   # Initialize to keep track of efficiency\n",
      "low = 0.0        # Initialize the lower bound\n",
      "high = y         # Initialize the upper bound (can't go over x)\n",
      "x = (high + low)/2.0            # Initialize ans to be in the middle (float!)\n",
      "\n",
      "while abs(x**2 - y) >= epsilon: # While the difference between the approximate and actual square is too big...\n",
      "    print('low = ' + str(low) + ' high = ' + str(high) + ' ans = ' + str(x))\n",
      "    numGuesses += 1\n",
      "    \n",
      "    if x**2 < y:                # If ans is too small (lower than the true value)\n",
      "        low = x                 # Reset lower bound upwards  \n",
      "        \n",
      "    else:                         # If ans is too big (greater than the true value)\n",
      "        high = x                # Reset upper bound downwards\n",
      "         \n",
      "    x = (high + low)/2.0        # Update x\n",
      "    \n",
      "# Keep updating the bounds and ans until the difference is small enough and we have reached a good approximation\n",
      "\n",
      "print 'numGuesses = ' + str(numGuesses)\n",
      "print str(x) + ' is close to square root of ' + str(y)"
     ],
     "language": "python",
     "metadata": {},
     "outputs": [
      {
       "output_type": "stream",
       "stream": "stdout",
       "text": [
        "low = 0.0 high = 25 ans = 12.5\n",
        "low = 0.0 high = 12.5 ans = 6.25\n",
        "low = 0.0 high = 6.25 ans = 3.125\n",
        "low = 3.125 high = 6.25 ans = 4.6875\n",
        "low = 4.6875 high = 6.25 ans = 5.46875\n",
        "low = 4.6875 high = 5.46875 ans = 5.078125\n",
        "low = 4.6875 high = 5.078125 ans = 4.8828125\n",
        "low = 4.8828125 high = 5.078125 ans = 4.98046875\n",
        "low = 4.98046875 high = 5.078125 ans = 5.029296875\n",
        "low = 4.98046875 high = 5.029296875 ans = 5.0048828125\n",
        "low = 4.98046875 high = 5.0048828125 ans = 4.99267578125\n",
        "low = 4.99267578125 high = 5.0048828125 ans = 4.99877929688\n",
        "low = 4.99877929688 high = 5.0048828125 ans = 5.00183105469\n",
        "numGuesses = 13\n",
        "5.00030517578 is close to square root of 25\n"
       ]
      }
     ],
     "prompt_number": 19
    },
    {
     "cell_type": "code",
     "collapsed": false,
     "input": [
      "# Newton-Raphson search algorithm for square root\n",
      "\n",
      "epsilon = 0.01   # Small difference for test\n",
      "y = 25.0         # Number whose square root we are after\n",
      "x = y/2.0        # Initial guess for the square root of y (e.g. half of y)\n",
      "numGuesses = 0   # Initialize to keep track of efficiency\n",
      "\n",
      "while abs(x**2 - y) >= epsilon:  # While the difference between the approximate and actual square is too big...\n",
      "    \n",
      "    numGuesses += 1\n",
      "\n",
      "    x = x - (((x**2) - y)/(2*x)) # Update x by a better guess according to Newton-Raphson\n",
      "    \n",
      "    # Let     p(x) = x**2 - y     to find the square root of y\n",
      "    # We want to find a root   r   such that   p(r) = 0   , or close enough (by epsilon)\n",
      "    # A better approximation for x is   x - p(x)/p'(x)      \n",
      "    \n",
      "    print x                      # Print the value of the updated guess\n",
      "\n",
      "# Once we are done, p(r) is close enough to 0, or p(x) = x**2 - y < epsilon, we print the approximate square root\n",
      "print 'numGuesses = ' + str(numGuesses)\n",
      "print 'Square root of ' + str(y) + ' is about ' + str(x)"
     ],
     "language": "python",
     "metadata": {},
     "outputs": [
      {
       "output_type": "stream",
       "stream": "stdout",
       "text": [
        "7.25\n",
        "5.34913793103\n",
        "5.01139410653\n",
        "5.00001295305\n",
        "numGuesses = 4\n",
        "Square root of 25.0 is about 5.00001295305\n"
       ]
      }
     ],
     "prompt_number": 18
    },
    {
     "cell_type": "code",
     "collapsed": false,
     "input": [
      "# Exercise: Write a program to guess a secret number using a bisection search\n",
      "\n",
      "x = raw_input(\"Please think of a number between 0 and 100! \") \n",
      "\n",
      "low = 0                   # Initialize the lower bound\n",
      "high = 100                # Initialize the upper bound (can't go over x)\n",
      "\n",
      "ans = (high + low)/2      # Initialize ans to be in the middle (int!)\n",
      "\n",
      "response = raw_input(\"Is your secret number \" + str(ans) + \"? Enter 'h' to indicate the guess is too high. \\\n",
      "        Enter 'l' to indicate the guess is too low. Enter 'c' to indicate I guessed correctly.\")\n",
      "\n",
      "while response != 'h' and response != 'l' and response != 'c': # If the user enters something incorrect\n",
      "    \n",
      "    print \"Sorry, I did not understand your input.\"\n",
      "    response = raw_input(\"Is your secret number \" + str(ans) + \"? Enter 'h' to indicate the guess is too high. \\\n",
      "            Enter 'l' to indicate the guess is too low. Enter 'c' to indicate I guessed correctly.\")\n",
      "    \n",
      "    if response == 'h' or response == 'l' or response == 'c':\n",
      "        break\n",
      "        \n",
      "# While we have still not guessed the correct secret number...\n",
      "while response != 'c':    # While we haven't guessed the correct number yet\n",
      "    \n",
      "    if response == 'h':   # If guess is too large\n",
      "        high = ans        # Reset upper bound downwards\n",
      "    elif response == 'l': # If guess is too small\n",
      "        low = ans         # Reset lower bound upwards\n",
      "        \n",
      "    ans = (high + low)/2  # Update the value of ans\n",
      "    \n",
      "    # Ask the user again if the new guess is correct\n",
      "    response = raw_input(\"Is your secret number \" + str(ans) + \"? Enter 'h' to indicate the guess is too high. \\\n",
      "            Enter 'l' to indicate the guess is too low. Enter 'c' to indicate I guessed correctly.\")\n",
      "\n",
      "# Once we guess the correct secret number...\n",
      "print \"Game over. Your secret number was: \" + str(ans)"
     ],
     "language": "python",
     "metadata": {},
     "outputs": [
      {
       "name": "stdout",
       "output_type": "stream",
       "stream": "stdout",
       "text": [
        "Please think of a number between 0 and 100! 5\n"
       ]
      },
      {
       "name": "stdout",
       "output_type": "stream",
       "stream": "stdout",
       "text": [
        "Is your secret number 50? Enter 'h' to indicate the guess is too high.         Enter 'l' to indicate the guess is too low. Enter 'c' to indicate I guessed correctly.h\n"
       ]
      },
      {
       "name": "stdout",
       "output_type": "stream",
       "stream": "stdout",
       "text": [
        "Is your secret number 25? Enter 'h' to indicate the guess is too high. Enter 'l' to indicate the guess is too low. Enter 'c' to indicate I guessed correctly.h\n"
       ]
      },
      {
       "name": "stdout",
       "output_type": "stream",
       "stream": "stdout",
       "text": [
        "Is your secret number 12? Enter 'h' to indicate the guess is too high. Enter 'l' to indicate the guess is too low. Enter 'c' to indicate I guessed correctly.h\n"
       ]
      },
      {
       "name": "stdout",
       "output_type": "stream",
       "stream": "stdout",
       "text": [
        "Is your secret number 6? Enter 'h' to indicate the guess is too high. Enter 'l' to indicate the guess is too low. Enter 'c' to indicate I guessed correctly.h\n"
       ]
      },
      {
       "name": "stdout",
       "output_type": "stream",
       "stream": "stdout",
       "text": [
        "Is your secret number 3? Enter 'h' to indicate the guess is too high. Enter 'l' to indicate the guess is too low. Enter 'c' to indicate I guessed correctly.l\n"
       ]
      },
      {
       "name": "stdout",
       "output_type": "stream",
       "stream": "stdout",
       "text": [
        "Is your secret number 4? Enter 'h' to indicate the guess is too high. Enter 'l' to indicate the guess is too low. Enter 'c' to indicate I guessed correctly.l\n"
       ]
      },
      {
       "name": "stdout",
       "output_type": "stream",
       "stream": "stdout",
       "text": [
        "Is your secret number 5? Enter 'h' to indicate the guess is too high. Enter 'l' to indicate the guess is too low. Enter 'c' to indicate I guessed correctly.c\n"
       ]
      },
      {
       "output_type": "stream",
       "stream": "stdout",
       "text": [
        "Game over. Your secret number was: 5\n"
       ]
      }
     ],
     "prompt_number": 17
    },
    {
     "cell_type": "heading",
     "level": 3,
     "metadata": {},
     "source": [
      "B. Functions"
     ]
    },
    {
     "cell_type": "heading",
     "level": 5,
     "metadata": {},
     "source": [
      "Bisection Search Algorithm"
     ]
    },
    {
     "cell_type": "code",
     "collapsed": false,
     "input": [
      "# Function that uses bisection search algorithm to find a p-th root\n",
      "\n",
      "def bisec_root_p(y, p, epsilon):\n",
      "    ''' This is a function that returns an approximation of the root p of a number x,\n",
      "        it uses a bisection search and it takes the following arguments:\n",
      "        x: int or float\n",
      "        p > 1: power\n",
      "        epsilon > 0: small, defines distance\n",
      "    '''\n",
      "    # If we have a negative number:\n",
      "    if y < 0 and p%2 == 0: # can't find even powered root\n",
      "        return None\n",
      "    # Initializations\n",
      "    low = min(-1.0, y)   # max/min takes care of negatives\n",
      "    high = max(1.0, y)   # -/+ 1.0 takes care of numbers between 0 and 1\n",
      "    x = (high+low)/2.0 # Initialize ans to be in the middle (float!)\n",
      "    \n",
      "    while abs(x**p - y) > epsilon: # While the difference between the approximate and actual power is too big...\n",
      "        \n",
      "        if x**p < y:       # If ans is too small (lower than the true value)\n",
      "            low = x        # Reset lower bound upwards\n",
      "        else:                # If ans is too big (greater than the true value)\n",
      "            high = x       # Reset upper bound downwards\n",
      "            \n",
      "        x = (high+low)/2.0 # Update ans\n",
      "        \n",
      "    return x          # The function returns the approximation of the p-th root\n",
      "\n",
      "# Example: \n",
      "print bisec_root_p(25.0, 2, .001)\n",
      "print bisec_root_p(25.0, 3, .001)"
     ],
     "language": "python",
     "metadata": {},
     "outputs": [
      {
       "output_type": "stream",
       "stream": "stdout",
       "text": [
        "4.99992370605\n",
        "2.92404174805\n"
       ]
      }
     ],
     "prompt_number": 20
    },
    {
     "cell_type": "heading",
     "level": 5,
     "metadata": {},
     "source": [
      "Newton-Raphson Search Algorithm"
     ]
    },
    {
     "cell_type": "code",
     "collapsed": false,
     "input": [
      "# Exercise: Write a function that uses Newton-Raphson search algorithm to find a p-th root.\n",
      "\n",
      "def newrap_root_p(y, p, epsilon):\n",
      "    ''' This is a function that returns an approximation of the root p of a number x,\n",
      "        it uses Newton-Raphson and it takes the following arguments:\n",
      "        x: int or float\n",
      "        p > 1: power\n",
      "        epsilon > 0: small, defines distance\n",
      "    '''\n",
      "    # If we have a negative number:\n",
      "    if y < 0 and p%2 == 0: # can't find even powered root\n",
      "        return None\n",
      "    # Initializations\n",
      "    x = y/2.0        # Initial guess for the square root of y (e.g. half of y)\n",
      "   \n",
      "    while abs(x**p - y) >= epsilon:  # While the difference between the approximate and actual square is too big...\n",
      "        \n",
      "        x = x - (((x**p) - y)/(p*x**(p - 1))) # Update x by a better guess according to Newton-Raphson\n",
      "        \n",
      "            # Let     p(x) = x**2 - y     to find the square root of y\n",
      "            # We want to find a root   r   such that   p(r) = 0   , or close enough (by epsilon)\n",
      "            # A better approximation for x is   x - p(x)/p'(x)  \n",
      "        \n",
      "    return x                      # Print the value of the updated guess\n",
      "\n",
      "print newrap_root_p(25.0, 2, .001)\n",
      "print newrap_root_p(25.0, 3, .001)"
     ],
     "language": "python",
     "metadata": {},
     "outputs": [
      {
       "output_type": "stream",
       "stream": "stdout",
       "text": [
        "5.00001295305\n",
        "2.92401775403\n"
       ]
      }
     ],
     "prompt_number": 21
    },
    {
     "cell_type": "code",
     "collapsed": false,
     "input": [
      "# Exercise: Write a function isVowel(char) returns True if char is a vowel ('a', 'e', 'i', 'o', or 'u') - capitalized or not\n",
      "\n",
      "def isVowel(char):\n",
      "    '''\n",
      "        char: a single letter of any case\n",
      "        returns: True if char is a vowel and False otherwise.\n",
      "    '''\n",
      "    # Your code here\n",
      "    return char.lower() in \"aeiou\".lower()\n",
      "# It could also had been done using    return (char.lower() == 'a') or (char.lower()== 'e') or (char.lower() == 'i') \\\n",
      "#                                            or (char.lower() == 'o') or (char.lower() == 'u') \n",
      "# Example: \n",
      "print isVowel(\"e\")"
     ],
     "language": "python",
     "metadata": {},
     "outputs": [
      {
       "output_type": "stream",
       "stream": "stdout",
       "text": [
        "True\n"
       ]
      }
     ],
     "prompt_number": 22
    },
    {
     "cell_type": "heading",
     "level": 3,
     "metadata": {},
     "source": [
      "Problem Set #1"
     ]
    },
    {
     "cell_type": "code",
     "collapsed": false,
     "input": [
      "# 1: Write a program that counts up the number of vowels contained in the string s.\n",
      "\n",
      "s = 'azcbobobegghakl'\n",
      "count = 0\n",
      "\n",
      "for i in s:\n",
      "    if i == 'a' or i == 'e' or \\\n",
      "    i == 'i' or i == 'o' or i == 'u':\n",
      "        count += 1      \n",
      "        \n",
      "print 'Number of vowels: ' + str(count)"
     ],
     "language": "python",
     "metadata": {},
     "outputs": [
      {
       "output_type": "stream",
       "stream": "stdout",
       "text": [
        "Number of vowels: 5\n"
       ]
      }
     ],
     "prompt_number": 23
    },
    {
     "cell_type": "code",
     "collapsed": false,
     "input": [
      "# 2: Write a program that prints the number of times the string 'bob' occurs in s.\n",
      "\n",
      "s = 'azcbobobegghakl'\n",
      "\n",
      "def count_bob(s):\n",
      "    count = 0 \n",
      "    for i in s:\n",
      "        if s.index(i) + 2 <= len(s) - 1:\n",
      "            if s[s.index(i) -1 : s.index(i) + 2] == 'bob':\n",
      "                count += 1 \n",
      "    return count\n",
      "\n",
      "print 'Number of times bob occurs is:', count_bob(s)"
     ],
     "language": "python",
     "metadata": {},
     "outputs": [
      {
       "output_type": "stream",
       "stream": "stdout",
       "text": [
        "Number of times bob occurs is: 2\n"
       ]
      }
     ],
     "prompt_number": 112
    },
    {
     "cell_type": "code",
     "collapsed": false,
     "input": [
      "# 3: (HARD) Write a program that prints the longest substring of s in which the letters occur in alphabetical order.\n",
      "                # In the case of ties, print the first substring.   \n",
      "    \n",
      "s = 'azcbobobegghakl'\n",
      "alphabet = \"abcdefghijklmnopqrstuvwxyz\"\n",
      "\n",
      "for i in s:\n",
      "    str_i = i\n",
      "    #for j in alphabet:     ... to do\n",
      "    "
     ],
     "language": "python",
     "metadata": {},
     "outputs": [],
     "prompt_number": 159
    },
    {
     "cell_type": "heading",
     "level": 3,
     "metadata": {},
     "source": [
      "Problem Set #2"
     ]
    },
    {
     "cell_type": "code",
     "collapsed": false,
     "input": [
      "# 1: Paying the minimum.\n",
      "\n",
      "balance = 5000\n",
      "annualInterestRate = 0.18\n",
      "monthlyPaymentRate = 0.02\n",
      "paid = 0\n",
      "\n",
      "for i in range(12):\n",
      "    print 'Month: ', i + 1\n",
      "    print 'Minimum monthly payment: ', \n",
      "    print \"%.2f\" % (balance*monthlyPaymentRate)\n",
      "    paid += balance*monthlyPaymentRate\n",
      "    balance = (balance - balance*monthlyPaymentRate)*(1 + 0.18/12.0)\n",
      "    print 'Remaining balance',\n",
      "    print \"%.2f\" % balance\n",
      "    \n",
      "print '- - - - - - - - - - - - - - - -'\n",
      "print 'Total paid: $',\n",
      "print \"%.2f\" % paid\n",
      "print 'Remaining balance: $',\n",
      "print \"%.2f\" % balance\n"
     ],
     "language": "python",
     "metadata": {},
     "outputs": [
      {
       "output_type": "stream",
       "stream": "stdout",
       "text": [
        "Month:  1\n",
        "Minimum monthly payment:  100.00\n",
        "Remaining balance 4973.50\n",
        "Month:  2\n",
        "Minimum monthly payment:  99.47\n",
        "Remaining balance 4947.14\n",
        "Month:  3\n",
        "Minimum monthly payment:  98.94\n",
        "Remaining balance 4920.92\n",
        "Month:  4\n",
        "Minimum monthly payment:  98.42\n",
        "Remaining balance 4894.84\n",
        "Month:  5\n",
        "Minimum monthly payment:  97.90\n",
        "Remaining balance 4868.90\n",
        "Month:  6\n",
        "Minimum monthly payment:  97.38\n",
        "Remaining balance 4843.09\n",
        "Month:  7\n",
        "Minimum monthly payment:  96.86\n",
        "Remaining balance 4817.42\n",
        "Month:  8\n",
        "Minimum monthly payment:  96.35\n",
        "Remaining balance 4791.89\n",
        "Month:  9\n",
        "Minimum monthly payment:  95.84\n",
        "Remaining balance 4766.49\n",
        "Month:  10\n",
        "Minimum monthly payment:  95.33\n",
        "Remaining balance 4741.23\n",
        "Month:  11\n",
        "Minimum monthly payment:  94.82\n",
        "Remaining balance 4716.10\n",
        "Month:  12\n",
        "Minimum monthly payment:  94.32\n",
        "Remaining balance 4691.11\n",
        "- - - - - - - - - - - - - - - -\n",
        "Total paid: $ 1165.63\n",
        "Remaining balance: $ 4691.11\n"
       ]
      }
     ],
     "prompt_number": 3
    },
    {
     "cell_type": "code",
     "collapsed": false,
     "input": [
      "# 2: Paying debt off in a year.\n",
      "\n",
      "init_balance = 5000\n",
      "end_balance = 5000\n",
      "balance = 5000\n",
      "annualInterestRate = 0.18\n",
      "\n",
      "minimumFixedPaymeny = 10\n",
      "step = 10\n",
      "\n",
      "while end_balance > 0: \n",
      "    minimumFixedPaymeny += step\n",
      "\n",
      "    for i in range(12):\n",
      "        balance = (balance - minimumFixedPaymeny)*(1 + 0.18/12.0)\n",
      "        end_balance = balance\n",
      "    balance = init_balance\n",
      "    \n",
      "print '- - - - - - - - - - - - - - - -'\n",
      "print 'Lowest monthly payment: $',\n",
      "print minimumFixedPaymeny"
     ],
     "language": "python",
     "metadata": {},
     "outputs": [
      {
       "output_type": "stream",
       "stream": "stdout",
       "text": [
        "- - - - - - - - - - - - - - - -\n",
        "Lowest monthly payment: $ 460\n"
       ]
      }
     ],
     "prompt_number": 8
    },
    {
     "cell_type": "code",
     "collapsed": false,
     "input": [
      "# 3: Using bisection search to make the program faster.\n",
      "\n",
      "init_balance = 5000\n",
      "end_balance = 5000\n",
      "balance = 5000\n",
      "annualInterestRate = 0.18 \n",
      "epsilon = 0.01\n",
      "\n",
      "low = init_balance/12.0\n",
      "high  = (balance*(1 + annualInterestRate/12.0)**12)/12.0\n",
      "\n",
      "minimumFixedPaymeny = ( low + high )/2.0\n",
      "\n",
      "while abs(end_balance) > epsilon: \n",
      "    for i in range(12):\n",
      "        balance = (balance - minimumFixedPaymeny)*(1 + 0.18/12.0)\n",
      "        end_balance = balance\n",
      "    balance = init_balance\n",
      "    \n",
      "    if end_balance < 0:           # If ans is too small (lower than the true value)\n",
      "        high = minimumFixedPaymeny  # Reset lower bound upwards\n",
      "        \n",
      "    else:                    # If ans is too big (greater than the true value)\n",
      "        low = minimumFixedPaymeny  # Reset upper bound downwards\n",
      "         \n",
      "    minimumFixedPaymeny = ( low + high )/2.0\n",
      "print '- - - - - - - - - - - - - - - -'    \n",
      "print 'Lowest monthly payment: $',\n",
      "print \"%.2f\" % minimumFixedPaymeny"
     ],
     "language": "python",
     "metadata": {},
     "outputs": [
      {
       "output_type": "stream",
       "stream": "stdout",
       "text": [
        "- - - - - - - - - - - - - - - -\n",
        "Lowest monthly payment: $ 451.63\n"
       ]
      }
     ],
     "prompt_number": 6
    },
    {
     "cell_type": "heading",
     "level": 2,
     "metadata": {},
     "source": [
      "Week 3"
     ]
    },
    {
     "cell_type": "heading",
     "level": 3,
     "metadata": {},
     "source": [
      "A. Recursion"
     ]
    },
    {
     "cell_type": "code",
     "collapsed": false,
     "input": [
      "# Exercise: Compare retursion against iteration. Calculate base^exp without using **. \n",
      "\n",
      "# Recursive form:\n",
      "\n",
      "def recurPower(base, exp):\n",
      "    '''\n",
      "    base: int or float.\n",
      "    exp: int >= 0\n",
      "    returns: int or float, base^exp\n",
      "    '''\n",
      "    # Base Case:\n",
      "    if exp == 0:\n",
      "        return base/base\n",
      "    \n",
      "    # Recursive Case:\n",
      "    else:\n",
      "        return base * recurPower(base, exp - 1)\n",
      "    \n",
      "recurPower(2, 3)\n"
     ],
     "language": "python",
     "metadata": {},
     "outputs": [
      {
       "metadata": {},
       "output_type": "pyout",
       "prompt_number": 39,
       "text": [
        "8"
       ]
      }
     ],
     "prompt_number": 39
    },
    {
     "cell_type": "code",
     "collapsed": false,
     "input": [
      "# Exercise: Compare retursion against iteration. Calculate base^exp without using **. \n",
      "\n",
      "# Iterative form:\n",
      "\n",
      "def iterPower(base, exp):\n",
      "    '''\n",
      "    base: int or float.\n",
      "    exp: int >= 0\n",
      "    returns: int or float, base^exp\n",
      "    '''\n",
      "    # Initialize\n",
      "    ans = 1\n",
      "    \n",
      "    # If base^0\n",
      "    if exp == 0:\n",
      "        if type(base) == int:\n",
      "            return 1\n",
      "        if type(base) == float:\n",
      "            return float(1)\n",
      "        \n",
      "    # Otherwise\n",
      "    else:\n",
      "        while exp > 0:\n",
      "            ans *=base    \n",
      "            exp -= 1    \n",
      "    return ans\n",
      "\n",
      "iterPower(2, 3)"
     ],
     "language": "python",
     "metadata": {},
     "outputs": [
      {
       "metadata": {},
       "output_type": "pyout",
       "prompt_number": 40,
       "text": [
        "8"
       ]
      }
     ],
     "prompt_number": 40
    },
    {
     "cell_type": "code",
     "collapsed": false,
     "input": [
      "# Exercise: Compare retursion against iteration. Calculate the greatest common divisor of two positive integers.\n",
      "\n",
      "# Recursive form:\n",
      "\n",
      "def gcdRecur(a, b):\n",
      "    '''\n",
      "    a, b: positive integers\n",
      "    returns: a positive integer, the greatest common divisor of a & b.\n",
      "    '''\n",
      "    # Base case:\n",
      "    if b == 0:\n",
      "        return a\n",
      "    \n",
      "    # Recursive case:\n",
      "    else:\n",
      "        return gcdRecur(b, a%b)\n",
      "    \n",
      "# Examples:            \n",
      "print gcdRecur(2, 12)"
     ],
     "language": "python",
     "metadata": {},
     "outputs": [
      {
       "output_type": "stream",
       "stream": "stdout",
       "text": [
        "2\n"
       ]
      }
     ],
     "prompt_number": 84
    },
    {
     "cell_type": "code",
     "collapsed": false,
     "input": [
      "# Exercise: Compare retursion against iteration. Calculate the greatest common divisor (gcd) of two positive integers.\n",
      "\n",
      "# Iterative form:\n",
      "\n",
      "def gcdIter(a, b):\n",
      "    '''\n",
      "    a, b: positive integers\n",
      "    returns: a positive integer, the greatest common divisor of a & b.\n",
      "    '''\n",
      "    \n",
      "    # Initializations:\n",
      "    ans = min(a,b)\n",
      "    good = a % ans == 0 and b % ans == 0\n",
      "\n",
      "    # If already one of them is the gcd:\n",
      "    if good:\n",
      "        return ans\n",
      "    \n",
      "    # Otherwise:\n",
      "    else:\n",
      "        for i in range(ans-1,0,-1):\n",
      "            if a % i == 0 and b % i == 0:\n",
      "                return i\n",
      "            # This could also had been done with a while loop of the form while ans > 1, substracting 1 at a time, and testing\n",
      "# Examples:            \n",
      "print gcdIter(2, 12)"
     ],
     "language": "python",
     "metadata": {},
     "outputs": [
      {
       "output_type": "stream",
       "stream": "stdout",
       "text": [
        "2\n"
       ]
      }
     ],
     "prompt_number": 85
    },
    {
     "cell_type": "code",
     "collapsed": false,
     "input": [
      "# The Towers of Hanoi: There are 3 towers and we have to move n size-ordered disks from one to another without order inversion\n",
      "\n",
      "def printMove(n, fr, to):  # We use 'fr' instead of 'from' because 'from' is forbidden in Python\n",
      "    ''' fr is the tower we want to move from, \n",
      "    to is the tower we want to move to'''\n",
      "    print 'Move ' + str(n) + ' disk from ' + str(fr) + 'to ' + str(to)\n",
      "    \n",
      "def Towers(n, fr, to, spare):\n",
      "    ''' n is the number of disks,\n",
      "    fr, to, spare are the three towers\n",
      "    spare is the spare tower'''\n",
      "    \n",
      "    # Base case:\n",
      "    if n == 1:  # If there is only one disk then it is easy...\n",
      "        return printMove(n, fr, to) # We just move it directly to the to tower\n",
      "    \n",
      "    # Recursive case:\n",
      "    else:\n",
      "        Towers(n-1, fr, spare, to)\n",
      "        Towers(1, fr, to, spare)\n",
      "        Towers(n-1, spare, to, fr)\n",
      "        \n",
      "# Example:\n",
      "Towers(2, 'Start ', 'End ', 'Spare ')"
     ],
     "language": "python",
     "metadata": {},
     "outputs": [
      {
       "output_type": "stream",
       "stream": "stdout",
       "text": [
        "Move 1 disk from Start to Spare \n",
        "Move 1 disk from Start to End \n",
        "Move 1 disk from Spare to End \n"
       ]
      }
     ],
     "prompt_number": 95
    },
    {
     "cell_type": "code",
     "collapsed": false,
     "input": [
      "# The Fibonacci Numbers (1, 1, 2, 3, 5, 8, 13, ...) both fib[0]=1 and fib[1] = 1, but fib[2] = 2, fib[3] = 3 ... fib[x]?\n",
      "\n",
      "def fib(x):\n",
      "    '''assumes x an int >= 0\n",
      "       returns x-th Fibonacci number'''\n",
      "    \n",
      "    assert type(x) == int and x>=0    # Check if the assumptions on x for the functions to work are satisfied\n",
      "    \n",
      "    # Base cases: \n",
      "    if x == 0 or x == 1:\n",
      "        return 1     # both fib[0]=1 and fib[1] = 1\n",
      "    \n",
      "    # Recursive case: \n",
      "    else:\n",
      "        return fib(x-1) + fib(x-2)   # Return the sum of the two previous numbers... which themselves are found recusively\n",
      "\n",
      "fib(20)"
     ],
     "language": "python",
     "metadata": {},
     "outputs": [
      {
       "metadata": {},
       "output_type": "pyout",
       "prompt_number": 4,
       "text": [
        "10946"
       ]
      }
     ],
     "prompt_number": 4
    },
    {
     "cell_type": "code",
     "collapsed": false,
     "input": [
      "# Check whether a string of characters in a palindrome (i.e. reads the same forwards and backwards):\n",
      "\n",
      "def isPalindrome(s):\n",
      "    \n",
      "    # Step 1: Reduce all characters to lower cases\n",
      "    s = s.lower()\n",
      "    \n",
      "    # Step 2: Take out all the spaces and punctuations\n",
      "    s_temp = \"\"\n",
      "    for i in s:\n",
      "        if i in \"abcdefghijklmnopqrstwxyz\":\n",
      "            s_temp += i\n",
      "    s = s_temp\n",
      "    \n",
      "    # Base case:\n",
      "    if len(s) <= 1: # If the string has no characters or only one, it is a palindrome\n",
      "        return True \n",
      "    # Recursion case:\n",
      "    else:           # Otherwise, if the first and the last characters are the same, we can cut them out and apply the recursion\n",
      "        return s[0] == s[-1] and isPalindrome(s[1:-1])\n",
      "\n",
      "# Examples:\n",
      "\n",
      "isPalindrome(\"Are we not drawn onward, we few, drawn onward to new era?\")\n",
      "isPalindrome(\"Able was I ere I saw Elba\")"
     ],
     "language": "python",
     "metadata": {},
     "outputs": [
      {
       "metadata": {},
       "output_type": "pyout",
       "prompt_number": 11,
       "text": [
        "True"
       ]
      }
     ],
     "prompt_number": 11
    },
    {
     "cell_type": "code",
     "collapsed": false,
     "input": [
      "#  Exercise: Recursive function computes the length of a string, by counting up the number of characters in the string\n",
      "\n",
      "def lenRecur(aStr):\n",
      "    '''\n",
      "    aStr: a string\n",
      "    returns: int, the length of aStr\n",
      "    '''\n",
      "    # Your code here\n",
      "    if aStr == '':\n",
      "        return 0\n",
      "    else:\n",
      "        aStr = aStr[1:]\n",
      "        return 1 + lenRecur(aStr)\n",
      "    \n",
      "lenRecur(\"starwars\")"
     ],
     "language": "python",
     "metadata": {},
     "outputs": [
      {
       "metadata": {},
       "output_type": "pyout",
       "prompt_number": 21,
       "text": [
        "8"
       ]
      }
     ],
     "prompt_number": 21
    },
    {
     "cell_type": "code",
     "collapsed": false,
     "input": [
      "#  Exercise: Use bisection search to determine if a character is in a string sorted in alphabetical order.\n",
      "\n",
      "def isIn(char, aStr):\n",
      "    '''char: a single character\n",
      "    aStr: an alphabetized string\n",
      "    returns: True if char is in aStr; False otherwise '''\n",
      "    \n",
      "    # Base cases: \n",
      "    \n",
      "    if len(aStr)> 0 and char == aStr[(len(aStr)-1)/2]:         #  when the test character equals the middle character\n",
      "        \n",
      "        return True\n",
      "    \n",
      "    elif (len(aStr) == 1 and char != aStr[(len(aStr)-1)/2]):   # when the string is of length 1 but the test fails\n",
      "        \n",
      "        return False\n",
      "    \n",
      "    elif len(aStr) == 0:                                       # when the string is empty\n",
      "        \n",
      "        return False\n",
      "    \n",
      "    # Recursive cases:\n",
      "    \n",
      "    else: \n",
      "        \n",
      "        if char < aStr[(len(aStr)-1)/2]:                       # when the test character is smaller than the middle character\n",
      "            \n",
      "            aStr = aStr[0:(len(aStr)-1)/2]                     # only consider the lower half of the string\n",
      "            return isIn(char, aStr)\n",
      "            \n",
      "        elif char > aStr[(len(aStr)-1)/2]:                      # when it is larger\n",
      "            \n",
      "            aStr = aStr[((len(aStr)-1)/2) + 1: len(aStr)-1]     # only consider the upper half of the string\n",
      "            return isIn(char, aStr)\n",
      "            \n",
      "print isIn(\"o\", \"aeiou\")            "
     ],
     "language": "python",
     "metadata": {},
     "outputs": [
      {
       "output_type": "stream",
       "stream": "stdout",
       "text": [
        "True\n"
       ]
      }
     ],
     "prompt_number": 27
    },
    {
     "cell_type": "code",
     "collapsed": false,
     "input": [
      "# Check whether a string of characters in a semordnilap  (i.e. word or phrase that spells a different word when backwards):\n",
      "\n",
      "\n",
      "def semordnilap(str1, str2):\n",
      "    '''str1: a string\n",
      "    str2: a string\n",
      "    returns: True if str1 and str2 are semordnilap;\n",
      "    False otherwise.'''\n",
      "    \n",
      "    # Base case:\n",
      "    if len(str1) != len(str2):\n",
      "        return False\n",
      "    elif len(str1) == 1 and str1 == str2:\n",
      "        return True\n",
      "    else:\n",
      "        return str1[0] == str2[-1] and semordnilap(str1[1:], str2[:-1])\n",
      "        \n",
      "def semordnilapWrapper(str1, str2):\n",
      "    \n",
      "    # A single-length string cannot be semordnilap\n",
      "    if len(str1) == 1 or len(str2) == 1:\n",
      "        return False\n",
      "\n",
      "    # Equal strings cannot be semordnilap\n",
      "    if str1 == str2:\n",
      "        return False\n",
      "\n",
      "    return semordnilap(str1, str2)\n",
      "\n",
      "print semordnilapWrapper(\"dog\", \"god\")"
     ],
     "language": "python",
     "metadata": {},
     "outputs": [
      {
       "output_type": "stream",
       "stream": "stdout",
       "text": [
        "False\n"
       ]
      }
     ],
     "prompt_number": 34
    },
    {
     "cell_type": "code",
     "collapsed": false,
     "input": [
      "# Let's add a global variable to keep track of the number of recursive calls needed for each Fibonacci number calculated.\n",
      "\n",
      "def fibMetered(x):\n",
      "    \n",
      "    global numCalls          # Call global var\n",
      "    numCalls += 1            # Add one to it every time fibMetered is passed through\n",
      "    \n",
      "    if x == 0 or x == 1:\n",
      "        \n",
      "        return 1\n",
      "    \n",
      "    else:\n",
      "        \n",
      "        return fibMetered(x-1) + fibMetered(x-2)\n",
      "\n",
      "# Now we create a wrapper function that initializes the global variable everytime the loop goes through\n",
      "\n",
      "def testFib(n):              # Tests fib for all the index numbers x upto n\n",
      "    \n",
      "    for i in range(n + 1):   # Upto n (inclusive)\n",
      "        \n",
      "        global numCalls\n",
      "        numCalls = 0         # Initialize the global var\n",
      "        \n",
      "        print('fib[%s]' % str(i) + ' = ' + str(fibMetered(i)))\n",
      "        print('fib function called ' + str(numCalls) + ' times')\n",
      "\n",
      "testFib(5)"
     ],
     "language": "python",
     "metadata": {},
     "outputs": [
      {
       "output_type": "stream",
       "stream": "stdout",
       "text": [
        "fib[0] = 1\n",
        "fib function called 1 times\n",
        "fib[1] = 1\n",
        "fib function called 1 times\n",
        "fib[2] = 2\n",
        "fib function called 3 times\n",
        "fib[3] = 3\n",
        "fib function called 5 times\n",
        "fib[4] = 5\n",
        "fib function called 9 times\n",
        "fib[5] = 8\n",
        "fib function called 15 times\n"
       ]
      }
     ],
     "prompt_number": 43
    },
    {
     "cell_type": "heading",
     "level": 3,
     "metadata": {},
     "source": [
      "B. Objects"
     ]
    },
    {
     "cell_type": "code",
     "collapsed": false,
     "input": [
      "# This function puts all the common divisors of two numbers in a tuple, and then sums all its elements\n",
      "\n",
      "def findDivisors(n1, n2):\n",
      "    \"\"\"assumes that n1 and n2 are positive ints\n",
      "       returns a tuple containing the common divisors of n1 and n2\"\"\"\n",
      "    \n",
      "    divisors = ()                          # Creates an empty tuple     [   recall singletons were  (x,)    ]\n",
      "    \n",
      "    for i in range(1, min(n1, n2) + 1):    # Loops over all the numbers i upto the minimum of the two...\n",
      "        \n",
      "        if n1%i == 0 and n2%i == 0:        # ... to try to find common divisors\n",
      "            \n",
      "            divisors = divisors + (i,)     # If i is a common divisor it is added as an element of the tuple\n",
      "            \n",
      "    return divisors                        # In the end we just return the tuple with all the common divisors as elements\n",
      "\n",
      "# Example:\n",
      "divisors = findDivisors(20, 100)\n",
      "\n",
      "total = 0\n",
      "\n",
      "for d in divisors:                         # Sum up all the elements in the tuple\n",
      "    total += d\n",
      "    \n",
      "print total "
     ],
     "language": "python",
     "metadata": {},
     "outputs": [
      {
       "output_type": "stream",
       "stream": "stdout",
       "text": [
        "42\n"
       ]
      }
     ],
     "prompt_number": 46
    },
    {
     "cell_type": "code",
     "collapsed": false,
     "input": [
      "# Funtion return a new tuple where every other element of the input tuple is copied, starting with the first one\n",
      "def oddTuples(aTup):\n",
      "    ''' aTup: a tuple\n",
      "    returns: tuple, every other element of aTup. '''\n",
      "    \n",
      "    ans = ()\n",
      "    for i in range(0, len(aTup)):\n",
      "        if i%2 == 0:\n",
      "            ans = ans + (aTup[i],)\n",
      "    return ans"
     ],
     "language": "python",
     "metadata": {},
     "outputs": [
      {
       "metadata": {},
       "output_type": "pyout",
       "prompt_number": 50,
       "text": [
        "True"
       ]
      }
     ],
     "prompt_number": 50
    },
    {
     "cell_type": "code",
     "collapsed": false,
     "input": [
      "# Exercise: counts the number of values in the dictionary.\n",
      "def howMany(aDict):\n",
      "    '''\n",
      "    aDict: A dictionary, where all the values are lists.\n",
      "\n",
      "    returns: int, how many values are in the dictionary.\n",
      "    '''\n",
      "    # Your Code Here\n",
      "    values = aDict.values()\n",
      "    print values\n",
      "    total = 0 \n",
      "    for i in values:\n",
      "        if type(i) == list:\n",
      "            for j in i:\n",
      "                total += 1 \n",
      "        else:\n",
      "            total += 1\n",
      "    return total\n",
      "howMany({'C': [], 'E': [3, 7, 10, 17, 12], 'n': [13, 12]})\n",
      "\n",
      "# Cool solution: \n",
      "\n",
      "def howMany2(aDict):\n",
      "    '''\n",
      "    Another way to solve the problem.\n",
      "\n",
      "    aDict: A dictionary, where all the values are lists.\n",
      "\n",
      "    returns: int, how many individual values are in the dictionary.\n",
      "    '''\n",
      "    result = 0\n",
      "    for key in aDict.keys():\n",
      "        result += len(aDict[key])\n",
      "    return result\n",
      " "
     ],
     "language": "python",
     "metadata": {},
     "outputs": [
      {
       "output_type": "stream",
       "stream": "stdout",
       "text": [
        "[[], [3, 7, 10, 17, 12], [13, 12]]\n"
       ]
      },
      {
       "metadata": {},
       "output_type": "pyout",
       "prompt_number": 65,
       "text": [
        "7"
       ]
      }
     ],
     "prompt_number": 65
    },
    {
     "cell_type": "code",
     "collapsed": false,
     "input": [
      "# Exercise: function returns the key corresponding to the entry with the largest number of values associated with it\n",
      "\n",
      "def biggest(aDict):\n",
      "    '''\n",
      "    aDict: A dictionary, where all the values are lists.\n",
      "\n",
      "    returns: The key with the largest number of values associated with it\n",
      "    '''\n",
      "    tup = ()\n",
      "    if len(aDict)>0:\n",
      "        for key in aDict:\n",
      "            tup = tup + (len(aDict[key]),)\n",
      "        ind = tup.index(max(tup))\n",
      "        vals = aDict.values()\n",
      "        keys = aDict.keys()\n",
      "    \n",
      "        for key in keys:\n",
      "            if vals[keys.index(key)] == vals[ind]:\n",
      "                return key\n",
      " \n",
      "# Example:\n",
      "animals = { 'a': ['aardvark'], 'b': ['baboon'], 'c': ['coati']}\n",
      "animals['d'] = ['donkey']\n",
      "animals['d'].append('dog')\n",
      "animals['d'].append('dingo')\n",
      "animals\n",
      "biggest(animals)\n"
     ],
     "language": "python",
     "metadata": {},
     "outputs": [
      {
       "metadata": {},
       "output_type": "pyout",
       "prompt_number": 75,
       "text": [
        "'d'"
       ]
      }
     ],
     "prompt_number": 75
    },
    {
     "cell_type": "heading",
     "level": 3,
     "metadata": {},
     "source": [
      "Problem Set #3"
     ]
    },
    {
     "cell_type": "code",
     "collapsed": false,
     "input": [
      "# 1: Radiation Exposure.\n",
      "\n",
      "# Setting: There's Cobalt-60 inside one of the walls of the apartmen that has been there for 5 years when a person moves in...\n",
      "# ... She lives in the apartment for 6 years. How much total radiation was she exposed to from year 5 to year 11?...\n",
      "# ... Need to calculate the area under the radiation decay curve, time*activity = years*MBq, approx. using rectangles\n",
      "# ... The area of each rectangle is width (1 if yearly, in which case there are six rectanges) times height (f(year)).\n",
      "\n",
      "def fun(y):                # Radiation function as a function of time. \n",
      "    \n",
      "    import math\n",
      "    return 10*math.e**(math.log(0.5)/5.27 * y)\n",
      "\n",
      "# Let's plot it:\n",
      "\n",
      "years = 25          # We want the maximium year (x-axis) to be this value\n",
      "values = []         # Initialize an empty list to store the y-axis values\n",
      "line1 = []\n",
      "line2 = []\n",
      "\n",
      "for y in range(years + 1):   # Loop over each year\n",
      "    values.append(fun(y))      # Evalueate the f(y) and append to the list\n",
      "\n",
      "from pylab import *          # pylab is used to plot stuff as in MATLAB. \n",
      "\n",
      "figure(1)                    # Creates figure 1 ... pylab has a notion of current figure\n",
      "plot(values)                 # Draw on figure 1\n",
      "title('Radioactive Decay of Cobalt-60: Half Life 5.27 years')\n",
      "xlabel('Time (years)')\n",
      "ylabel('Activity of Cobalt-60 (MBq)')\n",
      "#show()                      # Show figure 1 on the screen\n",
      "#savefig('radiation-decay')  # Save figure 1 as radiation-decay.png\n",
      "\n",
      "\n",
      "# ... Then we sum all the height*width. We want to write a function for the general case:\n",
      "\n",
      "def  radiationExposure(start, stop, step): \n",
      "    '''\n",
      "    Computes and returns the amount of radiation exposed to between the start and stop times. \n",
      "    Calls the function f(x) to obtain the value of the function at any point.\n",
      "    start: integer, the time at which exposure begins\n",
      "    stop: integer, the time at which exposure ends\n",
      "    step: float, the width of each rectangle. You can assume that\n",
      "    the step size will always partition the space evenly.\n",
      "    returns: float, the amount of radiation exposed to between start and stop times.\n",
      "    '''\n",
      "    vals = []    # Create a list\n",
      "    total = 0\n",
      "    from numpy import arange\n",
      "    grid = arange(start, stop, step)\n",
      "    for i in grid:\n",
      "        vals.append(fun(i)*step)\n",
      "    \n",
      "    for i in vals:\n",
      "        total += i\n",
      "    return total\n",
      "\n",
      "radiationExposure(0, 5, 1) "
     ],
     "language": "python",
     "metadata": {},
     "outputs": [
      {
       "metadata": {},
       "output_type": "pyout",
       "prompt_number": 113,
       "text": [
        "39.10318784326239"
       ]
      }
     ],
     "prompt_number": 113
    },
    {
     "cell_type": "code",
     "collapsed": true,
     "input": [
      "# 2: Hangman Game, Part 1.\n",
      "\n",
      "import random\n",
      "import string\n",
      "\n",
      "# We have a file with tons of words\n",
      "WORDLIST_FILENAME = \"words.txt\"\n",
      "\n",
      "# Function that retuns a list of words from that file\n",
      "def loadWords():       # Notice it does not take any argument\n",
      "    \"\"\" Returns a list of valid words. Words are strings of lowercase letters.\n",
      "    Depending on the size of the word list, this function may\n",
      "    take a while to finish.\"\"\"\n",
      "    print \"Loading word list from file...\"\n",
      "    # inFile: file\n",
      "    inFile = open(WORDLIST_FILENAME, 'r', 0)\n",
      "    # line: string\n",
      "    line = inFile.readline()\n",
      "    # wordlist: list of strings\n",
      "    wordlist = string.split(line)\n",
      "    print \"  \", len(wordlist), \"words loaded.\"\n",
      "    return wordlist\n",
      "\n",
      "# Function that picks a word randomly from the list of words created before\n",
      "def chooseWord(wordlist):\n",
      "    \"\"\"wordlist (list): list of words (strings)\n",
      "    Returns a word from wordlist at random\"\"\"\n",
      "    return random.choice(wordlist)\n",
      "\n",
      "# Load the list of words into the variable wordlist\n",
      "\n",
      "wordlist = loadWords() # So that it can be accessed from anywhere in the program\n",
      "\n",
      "def isWordGuessed(secretWord, lettersGuessed):\n",
      "    '''secretWord: string, the word the user is guessing\n",
      "    lettersGuessed: list, what letters have been guessed so far\n",
      "    returns: boolean, True if all the letters of secretWord are in lettersGuessed;\n",
      "    False otherwise'''\n",
      "    count = 0\n",
      "    for i in lettersGuessed:\n",
      "        if i in secretWord:\n",
      "            count +=1\n",
      "    if count == len(lettersGuessed):\n",
      "        return True\n",
      "    else:\n",
      "        return False\n",
      "\n",
      "def getGuessedWord(secretWord, lettersGuessed):\n",
      "    '''\n",
      "    secretWord: string, the word the user is guessing\n",
      "    lettersGuessed: list, what letters have been guessed so far\n",
      "    returns: string, comprised of letters and underscores that represents\n",
      "      what letters in secretWord have been guessed so far.\n",
      "    '''\n",
      "    guessedWord = \"\"\n",
      "    secretWord = secretWord.replace(\"\", \" \").split()\n",
      "    for i in range(len(secretWord)):\n",
      "        if secretWord[i] in lettersGuessed:\n",
      "            guessedWord += secretWord[i]\n",
      "        else:\n",
      "            guessedWord += \"_\"\n",
      "    return guessedWord\n",
      "    \n",
      "def getAvailableLetters(lettersGuessed):\n",
      "    '''\n",
      "    lettersGuessed: list, what letters have been guessed so far\n",
      "    returns: string, comprised of letters that represents what letters have not\n",
      "      yet been guessed.\n",
      "    '''\n",
      "    available = \"abcdefghijklmnopqrstuvwxyz\"\n",
      "    for i in lettersGuessed:\n",
      "        available = available.replace(i, \"\")\n",
      "    return available\n",
      "\n",
      "def hangman(secretWord):\n",
      "    '''\n",
      "    secretWord: string, the secret word to guess.\n",
      "\n",
      "    Starts up an interactive game of Hangman.\n",
      "\n",
      "    * At the start of the game, let the user know how many \n",
      "      letters the secretWord contains.\n",
      "\n",
      "    * Ask the user to supply one guess (i.e. letter) per round.\n",
      "\n",
      "    * The user should receive feedback immediately after each guess \n",
      "      about whether their guess appears in the computers word.\n",
      "\n",
      "    * After each round, you should also display to the user the \n",
      "      partially guessed word so far, as well as letters that the \n",
      "      user has not yet guessed.\n",
      "\n",
      "    Follows the other limitations detailed in the problem write-up.\n",
      "    '''\n",
      "    guessedWord = '_'*len(secretWord)\n",
      "    print 'Welcome to the game, Hangman!'\n",
      "    print 'I am thinking of a word that is ' + str(len(secretWord)) + '  letters long'\n",
      "\n",
      "    guesses = 8            # The user is allowed 8 guesses only\n",
      "    lettersGuessed = []\n",
      "             \n",
      "    while guesses > 0:     # He plays as long as he has guesses left\n",
      "        \n",
      "        print '-------------'\n",
      "        print 'You have %s guesses left.' % str(guesses)\n",
      "        print 'Available letters: ' + getAvailableLetters(lettersGuessed)\n",
      "        guess = str(raw_input('Please guess a letter: ')).lower()\n",
      "        \n",
      "        if guess in lettersGuessed:\n",
      "            print 'Oops! You\\'ve already guessed that letter: ' + getGuessedWord(secretWord, lettersGuessed)\n",
      "            \n",
      "        elif guess in secretWord:\n",
      "            \n",
      "            lettersGuessed += guess\n",
      "            \n",
      "            getAvailableLetters(lettersGuessed) # take out the character guessed\n",
      "                       \n",
      "            print 'Good guess: ' + getGuessedWord(secretWord, lettersGuessed)\n",
      "            \n",
      "            if isWordGuessed(secretWord, lettersGuessed) == True:\n",
      "                print 'Congratulations, you won!'\n",
      "                break\n",
      "  \n",
      "        else:\n",
      "            \n",
      "            getAvailableLetters(lettersGuessed) # take out the character guessed\n",
      "            lettersGuessed += guess\n",
      "            print 'Oops! That letter is not in my word:' + getGuessedWord(secretWord, lettersGuessed)\n",
      "            guesses -= 1\n",
      "\n",
      "    if '_' in getGuessedWord(secretWord, lettersGuessed):\n",
      "        \n",
      "        print 'Sorry, you ran out of guesses. The word was %s' % secretWord\n",
      "        \n",
      "secretWord = chooseWord(wordlist).lower()\n",
      "hangman(secretWord)"
     ],
     "language": "python",
     "metadata": {},
     "outputs": [
      {
       "output_type": "stream",
       "stream": "stdout",
       "text": [
        "Loading word list from file...\n",
        "  "
       ]
      },
      {
       "output_type": "stream",
       "stream": "stdout",
       "text": [
        " 55909 words loaded.\n",
        "Welcome to the game, Hangman!\n",
        "I am thinking of a word that is 10  letters long\n",
        "-------------\n",
        "You have 8 guesses left.\n",
        "Available letters: abcdefghijklmnopqrstuvwxyz\n"
       ]
      },
      {
       "name": "stdout",
       "output_type": "stream",
       "stream": "stdout",
       "text": [
        "Please guess a letter: a\n"
       ]
      },
      {
       "output_type": "stream",
       "stream": "stdout",
       "text": [
        "Oops! That letter is not in my word:__________\n",
        "-------------\n",
        "You have 7 guesses left.\n",
        "Available letters: bcdefghijklmnopqrstuvwxyz\n"
       ]
      },
      {
       "name": "stdout",
       "output_type": "stream",
       "stream": "stdout",
       "text": [
        "Please guess a letter: e\n"
       ]
      },
      {
       "output_type": "stream",
       "stream": "stdout",
       "text": [
        "Oops! That letter is not in my word:__________\n",
        "-------------\n",
        "You have 6 guesses left.\n",
        "Available letters: bcdfghijklmnopqrstuvwxyz\n"
       ]
      },
      {
       "name": "stdout",
       "output_type": "stream",
       "stream": "stdout",
       "text": [
        "Please guess a letter: i\n"
       ]
      },
      {
       "output_type": "stream",
       "stream": "stdout",
       "text": [
        "Good guess: _______i__\n",
        "-------------\n",
        "You have 6 guesses left.\n",
        "Available letters: bcdfghjklmnopqrstuvwxyz\n"
       ]
      },
      {
       "name": "stdout",
       "output_type": "stream",
       "stream": "stdout",
       "text": [
        "Please guess a letter: o\n"
       ]
      },
      {
       "output_type": "stream",
       "stream": "stdout",
       "text": [
        "Good guess: ___o___i__\n",
        "-------------\n",
        "You have 6 guesses left.\n",
        "Available letters: bcdfghjklmnpqrstuvwxyz\n"
       ]
      },
      {
       "name": "stdout",
       "output_type": "stream",
       "stream": "stdout",
       "text": [
        "Please guess a letter: u\n"
       ]
      },
      {
       "output_type": "stream",
       "stream": "stdout",
       "text": [
        "Oops! That letter is not in my word:___o___i__\n",
        "-------------\n",
        "You have 5 guesses left.\n",
        "Available letters: bcdfghjklmnpqrstvwxyz\n"
       ]
      },
      {
       "name": "stdout",
       "output_type": "stream",
       "stream": "stdout",
       "text": [
        "Please guess a letter: b\n"
       ]
      },
      {
       "output_type": "stream",
       "stream": "stdout",
       "text": [
        "Oops! That letter is not in my word:___o___i__\n",
        "-------------\n",
        "You have 4 guesses left.\n",
        "Available letters: cdfghjklmnpqrstvwxyz\n"
       ]
      },
      {
       "name": "stdout",
       "output_type": "stream",
       "stream": "stdout",
       "text": [
        "Please guess a letter: p\n"
       ]
      },
      {
       "output_type": "stream",
       "stream": "stdout",
       "text": [
        "Oops! That letter is not in my word:___o___i__\n",
        "-------------\n",
        "You have 3 guesses left.\n",
        "Available letters: cdfghjklmnqrstvwxyz\n"
       ]
      },
      {
       "name": "stdout",
       "output_type": "stream",
       "stream": "stdout",
       "text": [
        "Please guess a letter: i\n"
       ]
      },
      {
       "output_type": "stream",
       "stream": "stdout",
       "text": [
        "Oops! You've already guessed that letter: ___o___i__\n",
        "-------------\n",
        "You have 3 guesses left.\n",
        "Available letters: cdfghjklmnqrstvwxyz\n"
       ]
      },
      {
       "name": "stdout",
       "output_type": "stream",
       "stream": "stdout",
       "text": [
        "Please guess a letter: s\n"
       ]
      },
      {
       "output_type": "stream",
       "stream": "stdout",
       "text": [
        "Oops! That letter is not in my word:___o___i__\n",
        "-------------\n",
        "You have 2 guesses left.\n",
        "Available letters: cdfghjklmnqrtvwxyz\n"
       ]
      },
      {
       "name": "stdout",
       "output_type": "stream",
       "stream": "stdout",
       "text": [
        "Please guess a letter: d\n"
       ]
      },
      {
       "output_type": "stream",
       "stream": "stdout",
       "text": [
        "Oops! That letter is not in my word:___o___i__\n",
        "-------------\n",
        "You have 1 guesses left.\n",
        "Available letters: cfghjklmnqrtvwxyz\n"
       ]
      },
      {
       "name": "stdout",
       "output_type": "stream",
       "stream": "stdout",
       "text": [
        "Please guess a letter: r\n"
       ]
      },
      {
       "output_type": "stream",
       "stream": "stdout",
       "text": [
        "Good guess: __ro___i__\n",
        "-------------\n",
        "You have 1 guesses left.\n",
        "Available letters: cfghjklmnqtvwxyz\n"
       ]
      },
      {
       "name": "stdout",
       "output_type": "stream",
       "stream": "stdout",
       "text": [
        "Please guess a letter: e\n"
       ]
      },
      {
       "output_type": "stream",
       "stream": "stdout",
       "text": [
        "Oops! You've already guessed that letter: __ro___i__\n",
        "-------------\n",
        "You have 1 guesses left.\n",
        "Available letters: cfghjklmnqtvwxyz\n"
       ]
      },
      {
       "name": "stdout",
       "output_type": "stream",
       "stream": "stdout",
       "text": [
        "Please guess a letter: b\n"
       ]
      },
      {
       "output_type": "stream",
       "stream": "stdout",
       "text": [
        "Oops! You've already guessed that letter: __ro___i__\n",
        "-------------\n",
        "You have 1 guesses left.\n",
        "Available letters: cfghjklmnqtvwxyz\n"
       ]
      },
      {
       "name": "stdout",
       "output_type": "stream",
       "stream": "stdout",
       "text": [
        "Please guess a letter: n\n"
       ]
      },
      {
       "output_type": "stream",
       "stream": "stdout",
       "text": [
        "Good guess: __ro___in_\n",
        "-------------\n",
        "You have 1 guesses left.\n",
        "Available letters: cfghjklmqtvwxyz\n"
       ]
      },
      {
       "name": "stdout",
       "output_type": "stream",
       "stream": "stdout",
       "text": [
        "Please guess a letter: m\n"
       ]
      },
      {
       "output_type": "stream",
       "stream": "stdout",
       "text": [
        "Oops! That letter is not in my word:__ro___in_\n",
        "Sorry, you ran out of guesses. The word was throttling\n"
       ]
      }
     ],
     "prompt_number": 2
    },
    {
     "cell_type": "heading",
     "level": 2,
     "metadata": {},
     "source": [
      "Week 4"
     ]
    },
    {
     "cell_type": "heading",
     "level": 3,
     "metadata": {},
     "source": [
      "A. Debugging"
     ]
    },
    {
     "cell_type": "markdown",
     "metadata": {},
     "source": [
      "No exercises\n"
     ]
    },
    {
     "cell_type": "heading",
     "level": 3,
     "metadata": {},
     "source": [
      "B. Assertions and Exceptions"
     ]
    },
    {
     "cell_type": "markdown",
     "metadata": {},
     "source": [
      "No exercises"
     ]
    },
    {
     "cell_type": "heading",
     "level": 3,
     "metadata": {},
     "source": [
      "Problem Set #4"
     ]
    },
    {
     "cell_type": "code",
     "collapsed": false,
     "input": [
      "# 1: Word Game (ps4a.py)\n",
      "\n",
      "import random\n",
      "import string\n",
      "VOWELS = 'aeiou'\n",
      "CONSONANTS = 'bcdfghjklmnpqrstvwxyz'\n",
      "HAND_SIZE = 7\n",
      "SCRABBLE_LETTER_VALUES = {\n",
      "    'a': 1, 'b': 3, 'c': 3, 'd': 2, 'e': 1, 'f': 4, 'g': 2, 'h': 4, 'i': 1, 'j': 8, 'k': 5, 'l': 1, 'm': 3, 'n': 1, 'o': 1, 'p': 3, 'q': 10, 'r': 1, 's': 1, 't': 1, 'u': 1, 'v': 4, 'w': 4, 'x': 8, 'y': 4, 'z': 10\n",
      "}\n",
      "WORDLIST_FILENAME = \"words2.txt\" # Please, make sure this file is saved in the same working directory as this code\n",
      "\n",
      "def loadWords():\n",
      "    \"\"\"Returns a list of valid words. Words are strings of lowercase letters.\n",
      "    Depending on the size of the word list, this function may take a while to finish.\"\"\"\n",
      "    print \"Loading word list from file...\"\n",
      "    # inFile: file\n",
      "    inFile = open(WORDLIST_FILENAME, 'r', 0)\n",
      "    # wordList: list of strings\n",
      "    wordList = []\n",
      "    for line in inFile:\n",
      "        wordList.append(line.strip().lower())\n",
      "    print \"  \", len(wordList), \"words loaded.\"\n",
      "    return wordList\n",
      "\n",
      "def getFrequencyDict(sequence): # Same representation used to represent a hand\n",
      "    \"\"\"Returns a dictionary where the keys are elements of the sequence\n",
      "    and the values are integer counts, for the number of times that an element is repeated in the sequence.\n",
      "    sequence: string or list\n",
      "    return: dictionary\n",
      "    \"\"\"\n",
      "    freq = {}  # dictionary (element_type -> int)\n",
      "    for x in sequence:\n",
      "        freq[x] = freq.get(x,0) + 1  # Return the value associated with the key x if key is in the dictionary, else default (0). \n",
      "    return freq\n",
      "\n",
      "# Problem #1: Scoring a word\n",
      "\n",
      "def getWordScore(word, n):\n",
      "    \"\"\"Returns the score for a word. Assumes the word is a valid word.\n",
      "    The score for a word is the sum of the points for letters in the\n",
      "    word, multiplied by the length of the word, PLUS 50 points if all n\n",
      "    letters are used on the first turn.\n",
      "    Letters are scored as in Scrabble; A is worth 1, B is worth 3, C is\n",
      "    worth 3, D is worth 2, E is worth 1, and so on (see SCRABBLE_LETTER_VALUES)\n",
      "    word: string (lowercase letters)\n",
      "    n: integer (HAND_SIZE; i.e., hand size required for additional points)\n",
      "    returns: int >= 0\"\"\"\n",
      "    score = 0\n",
      "    score_dict = {}\n",
      "    freq = getFrequencyDict(word)\n",
      "    for i in freq:\n",
      "        score_dict[i] = freq[i]*SCRABBLE_LETTER_VALUES.get(i)\n",
      "    score_list = score_dict.values()\n",
      "    for i in score_list:\n",
      "        score += i\n",
      "    score = score*len(word)\n",
      "    if len(word) == n:\n",
      "        score += 50\n",
      "    return score\n",
      "\n",
      "# Problem #2: Make sure you understand how this function works and what it does!\n",
      "\n",
      "def displayHand(hand):       # In the end we want to pass something like displayHand(getFrequencyDict(\"word\"))\n",
      "    \"\"\"Displays the letters currently in the hand.\n",
      "    For example: >>> displayHand({'a':1, 'x':2, 'l':3, 'e':1})\n",
      "    Should print out something like: a x x l l l e\n",
      "    The order of the letters is unimportant.\n",
      "    hand: dictionary (string -> int)\"\"\"\n",
      "    for letter in hand.keys(): # Get a list of the keys in the hand (the letters) and loop over them\n",
      "        for j in range(hand[letter]): # print as many times as the value (frequancy) asociated with each key (letter)\n",
      "             print letter,              # print all on the same line\n",
      "    print                               # print an empty line\n",
      "\n",
      "# Problem #2: Make sure you understand how this function works and what it does!\n",
      "\n",
      "def dealHand(n):\n",
      "    \"\"\"\n",
      "    Returns a random hand containing n lowercase letters.\n",
      "    At least n/3 the letters in the hand should be VOWELS.\n",
      "    Hands are represented as dictionaries. The keys are\n",
      "    letters and the values are the number of times the\n",
      "    particular letter is repeated in that hand.\n",
      "    n: int >= 0\n",
      "    returns: (hand) dictionary (string -> int)\n",
      "    \"\"\"\n",
      "    hand={}\n",
      "    numVowels = n / 3\n",
      "    # Return a randomly selected element from range(start, stop, step). \n",
      "    # This is equivalent to choice(range(start, stop, step))\n",
      "    for i in range(numVowels):\n",
      "        x = VOWELS[random.randrange(0,len(VOWELS))] # pick randomly one vowel for each n / 3\n",
      "        hand[x] = hand.get(x, 0) + 1 # add to the dictionary a key with that random vowel associated with its frequency\n",
      "        \n",
      "    for i in range(numVowels, n):    # Do the same for consonants\n",
      "        x = CONSONANTS[random.randrange(0,len(CONSONANTS))]\n",
      "        hand[x] = hand.get(x, 0) + 1\n",
      "        \n",
      "    return hand\n",
      "\n",
      "# Problem #2: Update a hand by removing letters\n",
      "\n",
      "def updateHand(hand, word):\n",
      "    \"\"\"\n",
      "    Assumes that 'hand' has all the letters in word.\n",
      "    In other words, this assumes that however many times\n",
      "    a letter appears in 'word', 'hand' has at least as\n",
      "    many of that letter in it. \n",
      "\n",
      "    Updates the hand: uses up the letters in the given word\n",
      "    and returns the new hand, without those letters in it.\n",
      "\n",
      "    Has no side effects: does not modify hand.\n",
      "\n",
      "    word: string\n",
      "    hand: dictionary (string -> int)    \n",
      "    returns: dictionary (string -> int)\n",
      "    \"\"\"\n",
      "\n",
      "    ###\n",
      "\n",
      "# Problem #3: Test word validity\n",
      "#\n",
      "def isValidWord(word, hand, wordList):\n",
      "    \"\"\"\n",
      "    Returns True if word is in the wordList and is entirely\n",
      "    composed of letters in the hand. Otherwise, returns False.\n",
      "\n",
      "    Does not mutate hand or wordList.\n",
      "   \n",
      "    word: string\n",
      "    hand: dictionary (string -> int)\n",
      "    wordList: list of lowercase strings\n",
      "    \"\"\"\n",
      "    # TO DO ... <-- Remove this comment when you code this function\n",
      "\n",
      "\n",
      "#\n",
      "# Problem #4: Playing a hand\n",
      "#\n",
      "\n",
      "def calculateHandlen(hand):\n",
      "    \"\"\" \n",
      "    Returns the length (number of letters) in the current hand.\n",
      "    \n",
      "    hand: dictionary (string-> int)\n",
      "    returns: integer\n",
      "    \"\"\"\n",
      "    # TO DO... <-- Remove this comment when you code this function\n",
      "\n",
      "\n",
      "\n",
      "def playHand(hand, wordList, n):\n",
      "    \"\"\"\n",
      "    Allows the user to play the given hand, as follows:\n",
      "\n",
      "    * The hand is displayed.\n",
      "    * The user may input a word or a single period (the string \".\") \n",
      "      to indicate they're done playing\n",
      "    * Invalid words are rejected, and a message is displayed asking\n",
      "      the user to choose another word until they enter a valid word or \".\"\n",
      "    * When a valid word is entered, it uses up letters from the hand.\n",
      "    * After every valid word: the score for that word is displayed,\n",
      "      the remaining letters in the hand are displayed, and the user\n",
      "      is asked to input another word.\n",
      "    * The sum of the word scores is displayed when the hand finishes.\n",
      "    * The hand finishes when there are no more unused letters or the user\n",
      "      inputs a \".\"\n",
      "\n",
      "      hand: dictionary (string -> int)\n",
      "      wordList: list of lowercase strings\n",
      "      n: integer (HAND_SIZE; i.e., hand size required for additional points)\n",
      "      \n",
      "    \"\"\"\n",
      "    # BEGIN PSEUDOCODE <-- Remove this comment when you code this function; do your coding within the pseudocode (leaving those comments in-place!)\n",
      "    # Keep track of the total score\n",
      "    \n",
      "    # As long as there are still letters left in the hand:\n",
      "    \n",
      "        # Display the hand\n",
      "        \n",
      "        # Ask user for input\n",
      "        \n",
      "        # If the input is a single period:\n",
      "        \n",
      "            # End the game (break out of the loop)\n",
      "\n",
      "            \n",
      "        # Otherwise (the input is not a single period):\n",
      "        \n",
      "            # If the word is not valid:\n",
      "            \n",
      "                # Reject invalid word (print a message followed by a blank line)\n",
      "\n",
      "            # Otherwise (the word is valid):\n",
      "\n",
      "                # Tell the user how many points the word earned, and the updated total score, in one line followed by a blank line\n",
      "                \n",
      "                # Update the hand \n",
      "                \n",
      "\n",
      "    # Game is over (user entered a '.' or ran out of letters), so tell user the total score\n",
      "\n",
      "\n",
      "#\n",
      "# Problem #5: Playing a game\n",
      "# \n",
      "\n",
      "def playGame(wordList):\n",
      "    \"\"\"\n",
      "    Allow the user to play an arbitrary number of hands.\n",
      "\n",
      "    1) Asks the user to input 'n' or 'r' or 'e'.\n",
      "      * If the user inputs 'n', let the user play a new (random) hand.\n",
      "      * If the user inputs 'r', let the user play the last hand again.\n",
      "      * If the user inputs 'e', exit the game.\n",
      "      * If the user inputs anything else, tell them their input was invalid.\n",
      " \n",
      "    2) When done playing the hand, repeat from step 1    \n",
      "    \"\"\"\n",
      "    # TO DO ... <-- Remove this comment when you code this function\n",
      "    print \"playGame not yet implemented.\" # <-- Remove this line when you code the function\n",
      "   \n",
      "\n",
      "\n",
      "\n",
      "#\n",
      "# Build data structures used for entire session and play game\n",
      "#\n",
      "if __name__ == '__main__':\n",
      "    wordList = loadWords()\n",
      "    playGame(wordList)"
     ],
     "language": "python",
     "metadata": {},
     "outputs": [
      {
       "output_type": "stream",
       "stream": "stdout",
       "text": [
        "Loading word list from file...\n",
        "   83667 words loaded.\n",
        "playGame not yet implemented."
       ]
      },
      {
       "output_type": "stream",
       "stream": "stdout",
       "text": [
        "\n"
       ]
      }
     ],
     "prompt_number": 7
    },
    {
     "cell_type": "code",
     "collapsed": false,
     "input": [],
     "language": "python",
     "metadata": {},
     "outputs": [],
     "prompt_number": 11
    },
    {
     "cell_type": "code",
     "collapsed": false,
     "input": [],
     "language": "python",
     "metadata": {},
     "outputs": []
    },
    {
     "cell_type": "code",
     "collapsed": false,
     "input": [
      "# 2: Word Game (ps4b.py)\n",
      "\n",
      "# from ps4a import *    # Already in iPython notebook\n",
      "import time\n",
      "\n",
      "\n",
      "#\n",
      "#\n",
      "# Problem #6: Computer chooses a word\n",
      "#\n",
      "#\n",
      "def compChooseWord(hand, wordList, n):\n",
      "    \"\"\"\n",
      "    Given a hand and a wordList, find the word that gives \n",
      "    the maximum value score, and return it.\n",
      "\n",
      "    This word should be calculated by considering all the words\n",
      "    in the wordList.\n",
      "\n",
      "    If no words in the wordList can be made from the hand, return None.\n",
      "\n",
      "    hand: dictionary (string -> int)\n",
      "    wordList: list (string)\n",
      "    n: integer (HAND_SIZE; i.e., hand size required for additional points)\n",
      "\n",
      "    returns: string or None\n",
      "    \"\"\"\n",
      "    # BEGIN PSEUDOCODE <-- Remove this comment when you code this function; do your coding within the pseudocode (leaving those comments in-place!)\n",
      "    # Create a new variable to store the maximum score seen so far (initially 0)\n",
      "\n",
      "    # Create a new variable to store the best word seen so far (initially None)  \n",
      "\n",
      "    # For each word in the wordList\n",
      "\n",
      "        # If you can construct the word from your hand\n",
      "        # (hint: you can use isValidWord, or - since you don't really need to test if the word is in the wordList - you can make a similar function that omits that test)\n",
      "\n",
      "            # Find out how much making that word is worth\n",
      "\n",
      "            # If the score for that word is higher than your best score\n",
      "\n",
      "                # Update your best score, and best word accordingly\n",
      "\n",
      "\n",
      "    # return the best word you found.\n",
      "\n",
      "\n",
      "#\n",
      "# Problem #7: Computer plays a hand\n",
      "#\n",
      "def compPlayHand(hand, wordList, n):\n",
      "    \"\"\"\n",
      "    Allows the computer to play the given hand, following the same procedure\n",
      "    as playHand, except instead of the user choosing a word, the computer \n",
      "    chooses it.\n",
      "\n",
      "    1) The hand is displayed.\n",
      "    2) The computer chooses a word.\n",
      "    3) After every valid word: the word and the score for that word is \n",
      "    displayed, the remaining letters in the hand are displayed, and the \n",
      "    computer chooses another word.\n",
      "    4)  The sum of the word scores is displayed when the hand finishes.\n",
      "    5)  The hand finishes when the computer has exhausted its possible\n",
      "    choices (i.e. compChooseWord returns None).\n",
      " \n",
      "    hand: dictionary (string -> int)\n",
      "    wordList: list (string)\n",
      "    n: integer (HAND_SIZE; i.e., hand size required for additional points)\n",
      "    \"\"\"\n",
      "    # TO DO ... <-- Remove this comment when you code this function\n",
      "    \n",
      "#\n",
      "# Problem #8: Playing a game\n",
      "#\n",
      "#\n",
      "def playGame(wordList):\n",
      "    \"\"\"\n",
      "    Allow the user to play an arbitrary number of hands.\n",
      " \n",
      "    1) Asks the user to input 'n' or 'r' or 'e'.\n",
      "        * If the user inputs 'e', immediately exit the game.\n",
      "        * If the user inputs anything that's not 'n', 'r', or 'e', keep asking them again.\n",
      "\n",
      "    2) Asks the user to input a 'u' or a 'c'.\n",
      "        * If the user inputs anything that's not 'c' or 'u', keep asking them again.\n",
      "\n",
      "    3) Switch functionality based on the above choices:\n",
      "        * If the user inputted 'n', play a new (random) hand.\n",
      "        * Else, if the user inputted 'r', play the last hand again.\n",
      "      \n",
      "        * If the user inputted 'u', let the user play the game\n",
      "          with the selected hand, using playHand.\n",
      "        * If the user inputted 'c', let the computer play the \n",
      "          game with the selected hand, using compPlayHand.\n",
      "\n",
      "    4) After the computer or user has played the hand, repeat from step 1\n",
      "\n",
      "    wordList: list (string)\n",
      "    \"\"\"\n",
      "    # TO DO... <-- Remove this comment when you code this function\n",
      "    print \"playGame not yet implemented.\" # <-- Remove this when you code this function\n",
      "\n",
      "        \n",
      "#\n",
      "# Build data structures used for entire session and play game\n",
      "#\n",
      "if __name__ == '__main__':\n",
      "    wordList = loadWords()\n",
      "    playGame(wordList)\n"
     ],
     "language": "python",
     "metadata": {},
     "outputs": []
    },
    {
     "cell_type": "code",
     "collapsed": false,
     "input": [],
     "language": "python",
     "metadata": {},
     "outputs": []
    },
    {
     "cell_type": "code",
     "collapsed": false,
     "input": [
      "# 3: Word Game (test_ps4a.py)\n",
      "\n",
      "#from ps4a import *\n",
      "\n",
      "# Test code\n",
      "\n",
      "# To run these tests, simply run this file (open up in IDLE, then run the file as normal)\n",
      "\n",
      "def test_getWordScore():\n",
      "    \"\"\"\n",
      "    Unit test for getWordScore\n",
      "    \"\"\"\n",
      "    failure=False\n",
      "    # dictionary of words and scores\n",
      "    words = {(\"\", 7):0, (\"it\", 7):4, (\"was\", 7):18, (\"scored\", 7):54, (\"waybill\", 7):155, (\"outgnaw\", 7):127, (\"fork\", 7):44, (\"fork\", 4):94}\n",
      "    for (word, n) in words.keys():\n",
      "        score = getWordScore(word, n)\n",
      "        if score != words[(word, n)]:\n",
      "            print \"FAILURE: test_getWordScore()\"\n",
      "            print \"\\tExpected\", words[(word, n)], \"points but got '\" + str(score) + \"' for word '\" + word + \"', n=\" + str(n)\n",
      "            failure=True\n",
      "    if not failure:\n",
      "        print \"SUCCESS: test_getWordScore()\"\n",
      "\n",
      "# end of test_getWordScore\n",
      "\n",
      "\n",
      "def test_updateHand():\n",
      "    \"\"\"\n",
      "    Unit test for updateHand\n",
      "    \"\"\"\n",
      "    # test 1\n",
      "    handOrig = {'a':1, 'q':1, 'l':2, 'm':1, 'u':1, 'i':1}\n",
      "    handCopy = handOrig.copy()\n",
      "    word = \"quail\"\n",
      "\n",
      "    hand2 = updateHand(handCopy, word)\n",
      "    expectedHand1 = {'l':1, 'm':1}\n",
      "    expectedHand2 = {'a':0, 'q':0, 'l':1, 'm':1, 'u':0, 'i':0}\n",
      "    if hand2 != expectedHand1 and hand2 != expectedHand2:\n",
      "        print \"FAILURE: test_updateHand('\"+ word +\"', \" + str(handOrig) + \")\"\n",
      "        print \"\\tReturned: \", hand2, \"\\n\\t-- but expected:\", expectedHand1, \"or\", expectedHand2\n",
      "\n",
      "        return # exit function\n",
      "    if handCopy != handOrig:\n",
      "        print \"FAILURE: test_updateHand('\"+ word +\"', \" + str(handOrig) + \")\"\n",
      "        print \"\\tOriginal hand was\", handOrig\n",
      "        print \"\\tbut implementation of updateHand mutated the original hand!\"\n",
      "        print \"\\tNow the hand looks like this:\", handCopy\n",
      "        \n",
      "        return # exit function\n",
      "        \n",
      "    # test 2\n",
      "    handOrig = {'e':1, 'v':2, 'n':1, 'i':1, 'l':2}\n",
      "    handCopy = handOrig.copy()\n",
      "    word = \"evil\"\n",
      "\n",
      "    hand2 = updateHand(handCopy, word)\n",
      "    expectedHand1 = {'v':1, 'n':1, 'l':1}\n",
      "    expectedHand2 = {'e':0, 'v':1, 'n':1, 'i':0, 'l':1}\n",
      "    if hand2 != expectedHand1 and hand2 != expectedHand2:\n",
      "        print \"FAILURE: test_updateHand('\"+ word +\"', \" + str(handOrig) + \")\"        \n",
      "        print \"\\tReturned: \", hand2, \"\\n\\t-- but expected:\", expectedHand1, \"or\", expectedHand2\n",
      "\n",
      "        return # exit function\n",
      "\n",
      "    if handCopy != handOrig:\n",
      "        print \"FAILURE: test_updateHand('\"+ word +\"', \" + str(handOrig) + \")\"\n",
      "        print \"\\tOriginal hand was\", handOrig\n",
      "        print \"\\tbut implementation of updateHand mutated the original hand!\"\n",
      "        print \"\\tNow the hand looks like this:\", handCopy\n",
      "        \n",
      "        return # exit function\n",
      "\n",
      "    # test 3\n",
      "    handOrig = {'h': 1, 'e': 1, 'l': 2, 'o': 1}\n",
      "    handCopy = handOrig.copy()\n",
      "    word = \"hello\"\n",
      "\n",
      "    hand2 = updateHand(handCopy, word)\n",
      "    expectedHand1 = {}\n",
      "    expectedHand2 = {'h': 0, 'e': 0, 'l': 0, 'o': 0}\n",
      "    if hand2 != expectedHand1 and hand2 != expectedHand2:\n",
      "        print \"FAILURE: test_updateHand('\"+ word +\"', \" + str(handOrig) + \")\"                \n",
      "        print \"\\tReturned: \", hand2, \"\\n\\t-- but expected:\", expectedHand1, \"or\", expectedHand2\n",
      "        \n",
      "        return # exit function\n",
      "\n",
      "    if handCopy != handOrig:\n",
      "        print \"FAILURE: test_updateHand('\"+ word +\"', \" + str(handOrig) + \")\"\n",
      "        print \"\\tOriginal hand was\", handOrig\n",
      "        print \"\\tbut implementation of updateHand mutated the original hand!\"\n",
      "        print \"\\tNow the hand looks like this:\", handCopy\n",
      "        \n",
      "        return # exit function\n",
      "\n",
      "    print \"SUCCESS: test_updateHand()\"\n",
      "\n",
      "# end of test_updateHand\n",
      "\n",
      "def test_isValidWord(wordList):\n",
      "    \"\"\"\n",
      "    Unit test for isValidWord\n",
      "    \"\"\"\n",
      "    failure=False\n",
      "    # test 1\n",
      "    word = \"hello\"\n",
      "    handOrig = getFrequencyDict(word)\n",
      "    handCopy = handOrig.copy()\n",
      "\n",
      "    if not isValidWord(word, handCopy, wordList):\n",
      "        print \"FAILURE: test_isValidWord()\"\n",
      "        print \"\\tExpected True, but got False for word: '\" + word + \"' and hand:\", handOrig\n",
      "\n",
      "        failure = True\n",
      "\n",
      "    # Test a second time to see if wordList or hand has been modified\n",
      "    if not isValidWord(word, handCopy, wordList):\n",
      "        print \"FAILURE: test_isValidWord()\"\n",
      "\n",
      "        if handCopy != handOrig:\n",
      "            print \"\\tTesting word\", word, \"for a second time - be sure you're not modifying hand.\"\n",
      "            print \"\\tAt this point, hand ought to be\", handOrig, \"but it is\", handCopy\n",
      "\n",
      "        else:\n",
      "            print \"\\tTesting word\", word, \"for a second time - have you modified wordList?\"\n",
      "            wordInWL = word in wordList\n",
      "            print \"The word\", word, \"should be in wordList - is it?\", wordInWL\n",
      "\n",
      "        print \"\\tExpected True, but got False for word: '\" + word + \"' and hand:\", handCopy\n",
      "\n",
      "        failure = True\n",
      "\n",
      "\n",
      "    # test 2\n",
      "    hand = {'r': 1, 'a': 3, 'p': 2, 'e': 1, 't': 1, 'u':1}\n",
      "    word = \"rapture\"\n",
      "\n",
      "    if  isValidWord(word, hand, wordList):\n",
      "        print \"FAILURE: test_isValidWord()\"\n",
      "        print \"\\tExpected False, but got True for word: '\" + word + \"' and hand:\", hand\n",
      "\n",
      "        failure = True        \n",
      "\n",
      "    # test 3\n",
      "    hand = {'n': 1, 'h': 1, 'o': 1, 'y': 1, 'd':1, 'w':1, 'e': 2}\n",
      "    word = \"honey\"\n",
      "\n",
      "    if  not isValidWord(word, hand, wordList):\n",
      "        print \"FAILURE: test_isValidWord()\"\n",
      "        print \"\\tExpected True, but got False for word: '\"+ word +\"' and hand:\", hand\n",
      "\n",
      "        failure = True                        \n",
      "\n",
      "    # test 4\n",
      "    hand = {'r': 1, 'a': 3, 'p': 2, 't': 1, 'u':2}\n",
      "    word = \"honey\"\n",
      "\n",
      "    if  isValidWord(word, hand, wordList):\n",
      "        print \"FAILURE: test_isValidWord()\"\n",
      "        print \"\\tExpected False, but got True for word: '\" + word + \"' and hand:\", hand\n",
      "        \n",
      "        failure = True\n",
      "\n",
      "    # test 5\n",
      "    hand = {'e':1, 'v':2, 'n':1, 'i':1, 'l':2}\n",
      "    word = \"evil\"\n",
      "    \n",
      "    if  not isValidWord(word, hand, wordList):\n",
      "        print \"FAILURE: test_isValidWord()\"\n",
      "        print \"\\tExpected True, but got False for word: '\" + word + \"' and hand:\", hand\n",
      "        \n",
      "        failure = True\n",
      "        \n",
      "    # test 6\n",
      "    word = \"even\"\n",
      "\n",
      "    if  isValidWord(word, hand, wordList):\n",
      "        print \"FAILURE: test_isValidWord()\"\n",
      "        print \"\\tExpected False, but got True for word: '\" + word + \"' and hand:\", hand\n",
      "        print \"\\t(If this is the only failure, make sure isValidWord() isn't mutating its inputs)\"        \n",
      "        \n",
      "        failure = True        \n",
      "\n",
      "    if not failure:\n",
      "        print \"SUCCESS: test_isValidWord()\"\n",
      "\n",
      "\n",
      "wordList = loadWords()\n",
      "print \"----------------------------------------------------------------------\"\n",
      "print \"Testing getWordScore...\"\n",
      "test_getWordScore()\n",
      "print \"----------------------------------------------------------------------\"\n",
      "print \"Testing updateHand...\"\n",
      "test_updateHand()\n",
      "print \"----------------------------------------------------------------------\"\n",
      "print \"Testing isValidWord...\"\n",
      "test_isValidWord(wordList)\n",
      "print \"----------------------------------------------------------------------\"\n",
      "print \"All done!\"\n"
     ],
     "language": "python",
     "metadata": {},
     "outputs": [
      {
       "output_type": "stream",
       "stream": "stdout",
       "text": [
        "Loading word list from file...\n",
        "   83667 words loaded.\n",
        "----------------------------------------------------------------------\n",
        "Testing getWordScore...\n",
        "SUCCESS: test_getWordScore()\n",
        "----------------------------------------------------------------------\n",
        "Testing updateHand...\n",
        "FAILURE: test_updateHand('quail', {'a': 1, 'i': 1, 'm': 1, 'l': 2, 'q': 1, 'u': 1})\n",
        "\tReturned:  None \n",
        "\t-- but expected: {'m': 1, 'l': 1} or {'a': 0, 'i': 0, 'm': 1, 'l': 1, 'q': 0, 'u': 0}\n",
        "----------------------------------------------------------------------\n",
        "Testing isValidWord...\n",
        "FAILURE: test_isValidWord()\n",
        "\tExpected True, but got False for word: 'hello' and hand: {'h': 1, 'e': 1, 'l': 2, 'o': 1}\n",
        "FAILURE: test_isValidWord()\n",
        "\tTesting word hello for a second time - have you modified wordList?\n",
        "The word hello should be in wordList - is it? True\n",
        "\tExpected True, but got False for word: 'hello' and hand: {'h': 1, 'e': 1, 'l': 2, 'o': 1}\n",
        "FAILURE: test_isValidWord()\n",
        "\tExpected True, but got False for word: 'honey' and hand: {'e': 2, 'd': 1, 'h': 1, 'o': 1, 'n': 1, 'w': 1, 'y': 1}\n",
        "FAILURE: test_isValidWord()\n",
        "\tExpected True, but got False for word: 'evil' and hand: {'i': 1, 'n': 1, 'e': 1, 'l': 2, 'v': 2}\n",
        "----------------------------------------------------------------------\n",
        "All done!\n"
       ]
      }
     ],
     "prompt_number": 9
    },
    {
     "cell_type": "code",
     "collapsed": false,
     "input": [],
     "language": "python",
     "metadata": {},
     "outputs": []
    },
    {
     "cell_type": "heading",
     "level": 2,
     "metadata": {},
     "source": [
      "Quiz"
     ]
    },
    {
     "cell_type": "heading",
     "level": 2,
     "metadata": {},
     "source": [
      "Week 5"
     ]
    },
    {
     "cell_type": "heading",
     "level": 3,
     "metadata": {},
     "source": [
      "A. Efficiency and Orders of Growth"
     ]
    },
    {
     "cell_type": "heading",
     "level": 3,
     "metadata": {},
     "source": [
      "B. Memory and Search"
     ]
    },
    {
     "cell_type": "heading",
     "level": 3,
     "metadata": {},
     "source": [
      "Problem Set #5"
     ]
    },
    {
     "cell_type": "code",
     "collapsed": false,
     "input": [
      "# 1:"
     ],
     "language": "python",
     "metadata": {},
     "outputs": []
    },
    {
     "cell_type": "heading",
     "level": 2,
     "metadata": {},
     "source": [
      "Week 6"
     ]
    },
    {
     "cell_type": "heading",
     "level": 3,
     "metadata": {},
     "source": [
      "A. Classes"
     ]
    },
    {
     "cell_type": "heading",
     "level": 3,
     "metadata": {},
     "source": [
      "B. Object Oriented Programming and Inheritance"
     ]
    },
    {
     "cell_type": "heading",
     "level": 3,
     "metadata": {},
     "source": []
    },
    {
     "cell_type": "code",
     "collapsed": false,
     "input": [],
     "language": "python",
     "metadata": {},
     "outputs": []
    },
    {
     "cell_type": "heading",
     "level": 2,
     "metadata": {},
     "source": [
      "Week 7"
     ]
    },
    {
     "cell_type": "heading",
     "level": 3,
     "metadata": {},
     "source": [
      "A. Trees "
     ]
    },
    {
     "cell_type": "heading",
     "level": 3,
     "metadata": {},
     "source": [
      "B. Wrap-up"
     ]
    },
    {
     "cell_type": "heading",
     "level": 3,
     "metadata": {},
     "source": [
      "Problem Set #7"
     ]
    },
    {
     "cell_type": "code",
     "collapsed": false,
     "input": [
      "# 1:"
     ],
     "language": "python",
     "metadata": {},
     "outputs": []
    }
   ],
   "metadata": {}
  }
 ]
}