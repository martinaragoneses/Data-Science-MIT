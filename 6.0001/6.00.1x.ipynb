{
 "metadata": {
  "name": "",
  "signature": "sha256:c4e0958c91357e33ff21eb43c744023421480417c75d7c74356ba0ebb327e29d"
 },
 "nbformat": 3,
 "nbformat_minor": 0,
 "worksheets": [
  {
   "cells": [
    {
     "cell_type": "heading",
     "level": 1,
     "metadata": {},
     "source": [
      "6.00.1x Introduction to Computer Science and Programming Using Python"
     ]
    },
    {
     "cell_type": "heading",
     "level": 6,
     "metadata": {},
     "source": [
      "MITx (Summer 2015) "
     ]
    },
    {
     "cell_type": "heading",
     "level": 2,
     "metadata": {},
     "source": [
      "Martin Aragoneses "
     ]
    },
    {
     "cell_type": "markdown",
     "metadata": {},
     "source": [
      "All the codes (including lecture exercises, problem sets and quizzes) in this notebook have been written or modified by me. I've converted some of the codes in the lecture to Python 2.7, the version that I use. They are meant to be proof of my command of the materials covered in the course and to serve for future reference for myself and for others. I am publishing this notebook and other files in my GitHub repository (https://github.com/martinaragoneses). "
     ]
    },
    {
     "cell_type": "heading",
     "level": 2,
     "metadata": {},
     "source": [
      "Week 1"
     ]
    },
    {
     "cell_type": "markdown",
     "metadata": {},
     "source": [
      "This was just the intro week, with some basic work in conditional statements, such as:"
     ]
    },
    {
     "cell_type": "code",
     "collapsed": false,
     "input": [
      "# The two variables are given. It may be strings or not\n",
      "varA = 6 \n",
      "varB = \"Six\"\n",
      "if type(varA) == type(\"str\") or type(varB) == type(\"str\"):\n",
      "    print 'string involved'\n",
      "else:\n",
      "    if varA > varB:\n",
      "        print 'bigger'\n",
      "    elif varA == varB:\n",
      "        print 'equal'\n",
      "    elif varA < varB:\n",
      "        print 'smaller'"
     ],
     "language": "python",
     "metadata": {},
     "outputs": [
      {
       "output_type": "stream",
       "stream": "stdout",
       "text": [
        "string involved\n"
       ]
      }
     ],
     "prompt_number": 12
    },
    {
     "cell_type": "heading",
     "level": 2,
     "metadata": {},
     "source": [
      "Week 2"
     ]
    },
    {
     "cell_type": "markdown",
     "metadata": {},
     "source": [
      "This was the week that introduced looping and searching algorithms, as well as the basics of functions in Python:"
     ]
    },
    {
     "cell_type": "heading",
     "level": 3,
     "metadata": {},
     "source": [
      "A. Simple Algorithms"
     ]
    },
    {
     "cell_type": "code",
     "collapsed": false,
     "input": [
      "# Repetitive addition\n",
      "x = 3\n",
      "ans = 0\n",
      "itersLeft = x\n",
      "while itersLeft != 0:\n",
      "    ans = ans + x\n",
      "    itersLeft = itersLeft -1\n",
      "print str(x) + '*' + str(x) + ' = ' +str(ans)"
     ],
     "language": "python",
     "metadata": {},
     "outputs": [
      {
       "output_type": "stream",
       "stream": "stdout",
       "text": [
        "3*3 = 9\n"
       ]
      }
     ],
     "prompt_number": 12
    },
    {
     "cell_type": "code",
     "collapsed": false,
     "input": [
      "# Find the cube root of a perfect cube. Detect if it is not a perfect cube\n",
      "    \n",
      "x = int(raw_input('Enter an integer: '))   # We want to find the cube root of x\n",
      "ans = 0             # We initialize this cube root to be found (assumed to be an integer)\n",
      "\n",
      "while ans**3 < x:   # While ans^3 falls short form x, we keep increasing ans until...\n",
      "    ans = ans + 1\n",
      "    \n",
      "if ans**3 == x:     # ... We hit the number we were looking for (ans = x^(1/3)) ...\n",
      "    print 'Cube root of ' + str(x) + ' is ' + str(ans)\n",
      "    \n",
      "else:               # ... or there is not integer such that ans = x^(1/3), that is, it is not a perfect cube\n",
      "    print str(x) + ' is not a perfect cube '"
     ],
     "language": "python",
     "metadata": {},
     "outputs": [
      {
       "name": "stdout",
       "output_type": "stream",
       "stream": "stdout",
       "text": [
        "Enter an integer: 28\n"
       ]
      },
      {
       "output_type": "stream",
       "stream": "stdout",
       "text": [
        "28 is not a perfect cube \n"
       ]
      }
     ],
     "prompt_number": 13
    },
    {
     "cell_type": "code",
     "collapsed": false,
     "input": [
      "# Plain search algorithm for a square root. Guess-Check-Update until a result is found or we go over\n",
      "        \n",
      "x = 25              # Number whose square root we are after\n",
      "epsilon = 0.01      # Small difference for test\n",
      "step = epsilon**2   # Small step used for updating if test fails\n",
      "numGuesses = 0      # Initialize to keep track of efficiency\n",
      "ans = 0.0           # Initialize the square root we are looking for  (note it is a float)\n",
      "\n",
      "while  abs(ans**2 - x) >= epsilon and ans <= x:  # While the difference between the approximate and actual square is too big...\n",
      "                                                 # ... greater than epsilon, and we are not geing over the upper bound x...\n",
      "    ans += step     # Make ans take a small incrementing step \n",
      "    numGuesses += 1 # Keeping track of the number of guesses\n",
      "    \n",
      "print 'numGuesses = ' + str(numGuesses)\n",
      "\n",
      "if abs(ans**2-x) < epsilon:\n",
      "    print str(ans) + ' is close to the square root of ' + str(x)\n",
      "    \n",
      "else:               # We screwed up  and went over and > x while still the difference was too large abs(ans^2-x) >= epsilon:\n",
      "    print 'Failed on square root of ' + str(x)"
     ],
     "language": "python",
     "metadata": {},
     "outputs": [
      {
       "output_type": "stream",
       "stream": "stdout",
       "text": [
        "numGuesses = 49990\n",
        "4.999 is close to the square root of 25\n"
       ]
      }
     ],
     "prompt_number": 25
    },
    {
     "cell_type": "code",
     "collapsed": false,
     "input": [
      "# Bisection search algorithm for a square root\n",
      "\n",
      "y = 25           # Number whose square root we are after\n",
      "epsilon = 0.01   # Small difference for test\n",
      "numGuesses = 0   # Initialize to keep track of efficiency\n",
      "low = 0.0        # Initialize the lower bound\n",
      "high = y         # Initialize the upper bound (can't go over x)\n",
      "x = (high + low)/2.0            # Initialize ans to be in the middle (float!)\n",
      "\n",
      "while abs(x**2 - y) >= epsilon: # While the difference between the approximate and actual square is too big...\n",
      "    print('low = ' + str(low) + ' high = ' + str(high) + ' ans = ' + str(x))\n",
      "    numGuesses += 1\n",
      "    \n",
      "    if x**2 < y:                # If ans is too small (lower than the true value)\n",
      "        low = x                 # Reset lower bound upwards  \n",
      "        \n",
      "    else:                         # If ans is too big (greater than the true value)\n",
      "        high = x                # Reset upper bound downwards\n",
      "         \n",
      "    x = (high + low)/2.0        # Update x\n",
      "    \n",
      "# Keep updating the bounds and ans until the difference is small enough and we have reached a good approximation\n",
      "\n",
      "print 'numGuesses = ' + str(numGuesses)\n",
      "print str(x) + ' is close to square root of ' + str(y)"
     ],
     "language": "python",
     "metadata": {},
     "outputs": [
      {
       "output_type": "stream",
       "stream": "stdout",
       "text": [
        "low = 0.0 high = 25 ans = 12.5\n",
        "low = 0.0 high = 12.5 ans = 6.25\n",
        "low = 0.0 high = 6.25 ans = 3.125\n",
        "low = 3.125 high = 6.25 ans = 4.6875\n",
        "low = 4.6875 high = 6.25 ans = 5.46875\n",
        "low = 4.6875 high = 5.46875 ans = 5.078125\n",
        "low = 4.6875 high = 5.078125 ans = 4.8828125\n",
        "low = 4.8828125 high = 5.078125 ans = 4.98046875\n",
        "low = 4.98046875 high = 5.078125 ans = 5.029296875\n",
        "low = 4.98046875 high = 5.029296875 ans = 5.0048828125\n",
        "low = 4.98046875 high = 5.0048828125 ans = 4.99267578125\n",
        "low = 4.99267578125 high = 5.0048828125 ans = 4.99877929688\n",
        "low = 4.99877929688 high = 5.0048828125 ans = 5.00183105469\n",
        "numGuesses = 13\n",
        "5.00030517578 is close to square root of 25\n"
       ]
      }
     ],
     "prompt_number": 19
    },
    {
     "cell_type": "code",
     "collapsed": false,
     "input": [
      "# Newton-Raphson search algorithm for square root\n",
      "\n",
      "epsilon = 0.01   # Small difference for test\n",
      "y = 25.0         # Number whose square root we are after\n",
      "x = y/2.0        # Initial guess for the square root of y (e.g. half of y)\n",
      "numGuesses = 0   # Initialize to keep track of efficiency\n",
      "\n",
      "while abs(x**2 - y) >= epsilon:  # While the difference between the approximate and actual square is too big...\n",
      "    \n",
      "    numGuesses += 1\n",
      "\n",
      "    x = x - (((x**2) - y)/(2*x)) # Update x by a better guess according to Newton-Raphson\n",
      "    \n",
      "    # Let     p(x) = x**2 - y     to find the square root of y\n",
      "    # We want to find a root   r   such that   p(r) = 0   , or close enough (by epsilon)\n",
      "    # A better approximation for x is   x - p(x)/p'(x)      \n",
      "    \n",
      "    print x                      # Print the value of the updated guess\n",
      "\n",
      "# Once we are done, p(r) is close enough to 0, or p(x) = x**2 - y < epsilon, we print the approximate square root\n",
      "print 'numGuesses = ' + str(numGuesses)\n",
      "print 'Square root of ' + str(y) + ' is about ' + str(x)"
     ],
     "language": "python",
     "metadata": {},
     "outputs": [
      {
       "output_type": "stream",
       "stream": "stdout",
       "text": [
        "7.25\n",
        "5.34913793103\n",
        "5.01139410653\n",
        "5.00001295305\n",
        "numGuesses = 4\n",
        "Square root of 25.0 is about 5.00001295305\n"
       ]
      }
     ],
     "prompt_number": 18
    },
    {
     "cell_type": "code",
     "collapsed": false,
     "input": [
      "# Exercise: Write a program to guess a secret number using a bisection search\n",
      "\n",
      "x = raw_input(\"Please think of a number between 0 and 100! \") \n",
      "\n",
      "low = 0                   # Initialize the lower bound\n",
      "high = 100                # Initialize the upper bound (can't go over x)\n",
      "\n",
      "ans = (high + low)/2      # Initialize ans to be in the middle (int!)\n",
      "\n",
      "response = raw_input(\"Is your secret number \" + str(ans) + \"? Enter 'h' to indicate the guess is too high. \\\n",
      "        Enter 'l' to indicate the guess is too low. Enter 'c' to indicate I guessed correctly.\")\n",
      "\n",
      "while response != 'h' and response != 'l' and response != 'c': # If the user enters something incorrect\n",
      "    \n",
      "    print \"Sorry, I did not understand your input.\"\n",
      "    response = raw_input(\"Is your secret number \" + str(ans) + \"? Enter 'h' to indicate the guess is too high. \\\n",
      "            Enter 'l' to indicate the guess is too low. Enter 'c' to indicate I guessed correctly.\")\n",
      "    \n",
      "    if response == 'h' or response == 'l' or response == 'c':\n",
      "        break\n",
      "        \n",
      "# While we have still not guessed the correct secret number...\n",
      "while response != 'c':    # While we haven't guessed the correct number yet\n",
      "    \n",
      "    if response == 'h':   # If guess is too large\n",
      "        high = ans        # Reset upper bound downwards\n",
      "    elif response == 'l': # If guess is too small\n",
      "        low = ans         # Reset lower bound upwards\n",
      "        \n",
      "    ans = (high + low)/2  # Update the value of ans\n",
      "    \n",
      "    # Ask the user again if the new guess is correct\n",
      "    response = raw_input(\"Is your secret number \" + str(ans) + \"? Enter 'h' to indicate the guess is too high. \\\n",
      "            Enter 'l' to indicate the guess is too low. Enter 'c' to indicate I guessed correctly.\")\n",
      "\n",
      "# Once we guess the correct secret number...\n",
      "print \"Game over. Your secret number was: \" + str(ans)"
     ],
     "language": "python",
     "metadata": {},
     "outputs": [
      {
       "name": "stdout",
       "output_type": "stream",
       "stream": "stdout",
       "text": [
        "Please think of a number between 0 and 100! 5\n"
       ]
      },
      {
       "name": "stdout",
       "output_type": "stream",
       "stream": "stdout",
       "text": [
        "Is your secret number 50? Enter 'h' to indicate the guess is too high.         Enter 'l' to indicate the guess is too low. Enter 'c' to indicate I guessed correctly.h\n"
       ]
      },
      {
       "name": "stdout",
       "output_type": "stream",
       "stream": "stdout",
       "text": [
        "Is your secret number 25? Enter 'h' to indicate the guess is too high. Enter 'l' to indicate the guess is too low. Enter 'c' to indicate I guessed correctly.h\n"
       ]
      },
      {
       "name": "stdout",
       "output_type": "stream",
       "stream": "stdout",
       "text": [
        "Is your secret number 12? Enter 'h' to indicate the guess is too high. Enter 'l' to indicate the guess is too low. Enter 'c' to indicate I guessed correctly.h\n"
       ]
      },
      {
       "name": "stdout",
       "output_type": "stream",
       "stream": "stdout",
       "text": [
        "Is your secret number 6? Enter 'h' to indicate the guess is too high. Enter 'l' to indicate the guess is too low. Enter 'c' to indicate I guessed correctly.h\n"
       ]
      },
      {
       "name": "stdout",
       "output_type": "stream",
       "stream": "stdout",
       "text": [
        "Is your secret number 3? Enter 'h' to indicate the guess is too high. Enter 'l' to indicate the guess is too low. Enter 'c' to indicate I guessed correctly.l\n"
       ]
      },
      {
       "name": "stdout",
       "output_type": "stream",
       "stream": "stdout",
       "text": [
        "Is your secret number 4? Enter 'h' to indicate the guess is too high. Enter 'l' to indicate the guess is too low. Enter 'c' to indicate I guessed correctly.l\n"
       ]
      },
      {
       "name": "stdout",
       "output_type": "stream",
       "stream": "stdout",
       "text": [
        "Is your secret number 5? Enter 'h' to indicate the guess is too high. Enter 'l' to indicate the guess is too low. Enter 'c' to indicate I guessed correctly.c\n"
       ]
      },
      {
       "output_type": "stream",
       "stream": "stdout",
       "text": [
        "Game over. Your secret number was: 5\n"
       ]
      }
     ],
     "prompt_number": 17
    },
    {
     "cell_type": "heading",
     "level": 3,
     "metadata": {},
     "source": [
      "B. Functions"
     ]
    },
    {
     "cell_type": "heading",
     "level": 5,
     "metadata": {},
     "source": [
      "Bisection Search Algorithm"
     ]
    },
    {
     "cell_type": "code",
     "collapsed": false,
     "input": [
      "# Function that uses bisection search algorithm to find a p-th root\n",
      "\n",
      "def bisec_root_p(y, p, epsilon):\n",
      "    ''' This is a function that returns an approximation of the root p of a number x,\n",
      "        it uses a bisection search and it takes the following arguments:\n",
      "        x: int or float\n",
      "        p > 1: power\n",
      "        epsilon > 0: small, defines distance\n",
      "    '''\n",
      "    # If we have a negative number:\n",
      "    if y < 0 and p%2 == 0: # can't find even powered root\n",
      "        return None\n",
      "    # Initializations\n",
      "    low = min(-1.0, y)   # max/min takes care of negatives\n",
      "    high = max(1.0, y)   # -/+ 1.0 takes care of numbers between 0 and 1\n",
      "    x = (high+low)/2.0 # Initialize ans to be in the middle (float!)\n",
      "    \n",
      "    while abs(x**p - y) > epsilon: # While the difference between the approximate and actual power is too big...\n",
      "        \n",
      "        if x**p < y:       # If ans is too small (lower than the true value)\n",
      "            low = x        # Reset lower bound upwards\n",
      "        else:                # If ans is too big (greater than the true value)\n",
      "            high = x       # Reset upper bound downwards\n",
      "            \n",
      "        x = (high+low)/2.0 # Update ans\n",
      "        \n",
      "    return x          # The function returns the approximation of the p-th root\n",
      "\n",
      "# Example: \n",
      "print bisec_root_p(25.0, 2, .001)\n",
      "print bisec_root_p(25.0, 3, .001)"
     ],
     "language": "python",
     "metadata": {},
     "outputs": [
      {
       "output_type": "stream",
       "stream": "stdout",
       "text": [
        "4.99992370605\n",
        "2.92404174805\n"
       ]
      }
     ],
     "prompt_number": 20
    },
    {
     "cell_type": "heading",
     "level": 5,
     "metadata": {},
     "source": [
      "Newton-Raphson Search Algorithm"
     ]
    },
    {
     "cell_type": "code",
     "collapsed": false,
     "input": [
      "# Exercise: Write a function that uses Newton-Raphson search algorithm to find a p-th root.\n",
      "\n",
      "def newrap_root_p(y, p, epsilon):\n",
      "    ''' This is a function that returns an approximation of the root p of a number x,\n",
      "        it uses Newton-Raphson and it takes the following arguments:\n",
      "        x: int or float\n",
      "        p > 1: power\n",
      "        epsilon > 0: small, defines distance\n",
      "    '''\n",
      "    # If we have a negative number:\n",
      "    if y < 0 and p%2 == 0: # can't find even powered root\n",
      "        return None\n",
      "    # Initializations\n",
      "    x = y/2.0        # Initial guess for the square root of y (e.g. half of y)\n",
      "   \n",
      "    while abs(x**p - y) >= epsilon:  # While the difference between the approximate and actual square is too big...\n",
      "        \n",
      "        x = x - (((x**p) - y)/(p*x**(p - 1))) # Update x by a better guess according to Newton-Raphson\n",
      "        \n",
      "            # Let     p(x) = x**2 - y     to find the square root of y\n",
      "            # We want to find a root   r   such that   p(r) = 0   , or close enough (by epsilon)\n",
      "            # A better approximation for x is   x - p(x)/p'(x)  \n",
      "        \n",
      "    return x                      # Print the value of the updated guess\n",
      "\n",
      "print newrap_root_p(25.0, 2, .001)\n",
      "print newrap_root_p(25.0, 3, .001)"
     ],
     "language": "python",
     "metadata": {},
     "outputs": [
      {
       "output_type": "stream",
       "stream": "stdout",
       "text": [
        "5.00001295305\n",
        "2.92401775403\n"
       ]
      }
     ],
     "prompt_number": 21
    },
    {
     "cell_type": "code",
     "collapsed": false,
     "input": [
      "# Exercise: Write a function isVowel(char) returns True if char is a vowel ('a', 'e', 'i', 'o', or 'u') - capitalized or not\n",
      "\n",
      "def isVowel(char):\n",
      "    '''\n",
      "        char: a single letter of any case\n",
      "        returns: True if char is a vowel and False otherwise.\n",
      "    '''\n",
      "    # Your code here\n",
      "    return char.lower() in \"aeiou\".lower()\n",
      "# It could also had been done using    return (char.lower() == 'a') or (char.lower()== 'e') or (char.lower() == 'i') \\\n",
      "#                                            or (char.lower() == 'o') or (char.lower() == 'u') \n",
      "# Example: \n",
      "print isVowel(\"e\")"
     ],
     "language": "python",
     "metadata": {},
     "outputs": [
      {
       "output_type": "stream",
       "stream": "stdout",
       "text": [
        "True\n"
       ]
      }
     ],
     "prompt_number": 22
    },
    {
     "cell_type": "heading",
     "level": 3,
     "metadata": {},
     "source": [
      "Problem Set #1"
     ]
    },
    {
     "cell_type": "code",
     "collapsed": false,
     "input": [
      "# 1: Write a program that counts up the number of vowels contained in the string s.\n",
      "\n",
      "s = 'azcbobobegghakl'\n",
      "count = 0\n",
      "\n",
      "for i in s:\n",
      "    if i == 'a' or i == 'e' or \\\n",
      "    i == 'i' or i == 'o' or i == 'u':\n",
      "        count += 1      \n",
      "        \n",
      "print 'Number of vowels: ' + str(count)"
     ],
     "language": "python",
     "metadata": {},
     "outputs": [
      {
       "output_type": "stream",
       "stream": "stdout",
       "text": [
        "Number of vowels: 5\n"
       ]
      }
     ],
     "prompt_number": 23
    },
    {
     "cell_type": "code",
     "collapsed": false,
     "input": [
      "# 2: Write a program that prints the number of times the string 'bob' occurs in s.\n",
      "\n",
      "s = 'azcbobobegghakl'\n",
      "\n",
      "def count_bob(s):\n",
      "    count = 0 \n",
      "    for i in s:\n",
      "        if s.index(i) + 2 <= len(s) - 1:\n",
      "            if s[s.index(i) -1 : s.index(i) + 2] == 'bob':\n",
      "                count += 1 \n",
      "    return count\n",
      "\n",
      "print 'Number of times bob occurs is:', count_bob(s)"
     ],
     "language": "python",
     "metadata": {},
     "outputs": [
      {
       "output_type": "stream",
       "stream": "stdout",
       "text": [
        "Number of times bob occurs is: 2\n"
       ]
      }
     ],
     "prompt_number": 112
    },
    {
     "cell_type": "code",
     "collapsed": false,
     "input": [
      "# 3: (HARD) Write a program that prints the longest substring of s in which the letters occur in alphabetical order.\n",
      "                # In the case of ties, print the first substring.   \n",
      "    \n",
      "s = 'azcbobobegghakl'\n",
      "alphabet = \"abcdefghijklmnopqrstuvwxyz\"\n",
      "\n",
      "for i in s:\n",
      "    str_i = i\n",
      "    #for j in alphabet:     ... to do\n",
      "    "
     ],
     "language": "python",
     "metadata": {},
     "outputs": [],
     "prompt_number": 159
    },
    {
     "cell_type": "heading",
     "level": 3,
     "metadata": {},
     "source": [
      "Problem Set #2"
     ]
    },
    {
     "cell_type": "code",
     "collapsed": false,
     "input": [
      "# 1: Paying the minimum.\n",
      "\n",
      "balance = 5000\n",
      "annualInterestRate = 0.18\n",
      "monthlyPaymentRate = 0.02\n",
      "paid = 0\n",
      "\n",
      "for i in range(12):\n",
      "    print 'Month: ', i + 1\n",
      "    print 'Minimum monthly payment: ', \n",
      "    print \"%.2f\" % (balance*monthlyPaymentRate)\n",
      "    paid += balance*monthlyPaymentRate\n",
      "    balance = (balance - balance*monthlyPaymentRate)*(1 + 0.18/12.0)\n",
      "    print 'Remaining balance',\n",
      "    print \"%.2f\" % balance\n",
      "    \n",
      "print '- - - - - - - - - - - - - - - -'\n",
      "print 'Total paid: $',\n",
      "print \"%.2f\" % paid\n",
      "print 'Remaining balance: $',\n",
      "print \"%.2f\" % balance\n"
     ],
     "language": "python",
     "metadata": {},
     "outputs": [
      {
       "output_type": "stream",
       "stream": "stdout",
       "text": [
        "Month:  1\n",
        "Minimum monthly payment:  100.00\n",
        "Remaining balance 4973.50\n",
        "Month:  2\n",
        "Minimum monthly payment:  99.47\n",
        "Remaining balance 4947.14\n",
        "Month:  3\n",
        "Minimum monthly payment:  98.94\n",
        "Remaining balance 4920.92\n",
        "Month:  4\n",
        "Minimum monthly payment:  98.42\n",
        "Remaining balance 4894.84\n",
        "Month:  5\n",
        "Minimum monthly payment:  97.90\n",
        "Remaining balance 4868.90\n",
        "Month:  6\n",
        "Minimum monthly payment:  97.38\n",
        "Remaining balance 4843.09\n",
        "Month:  7\n",
        "Minimum monthly payment:  96.86\n",
        "Remaining balance 4817.42\n",
        "Month:  8\n",
        "Minimum monthly payment:  96.35\n",
        "Remaining balance 4791.89\n",
        "Month:  9\n",
        "Minimum monthly payment:  95.84\n",
        "Remaining balance 4766.49\n",
        "Month:  10\n",
        "Minimum monthly payment:  95.33\n",
        "Remaining balance 4741.23\n",
        "Month:  11\n",
        "Minimum monthly payment:  94.82\n",
        "Remaining balance 4716.10\n",
        "Month:  12\n",
        "Minimum monthly payment:  94.32\n",
        "Remaining balance 4691.11\n",
        "- - - - - - - - - - - - - - - -\n",
        "Total paid: $ 1165.63\n",
        "Remaining balance: $ 4691.11\n"
       ]
      }
     ],
     "prompt_number": 3
    },
    {
     "cell_type": "code",
     "collapsed": false,
     "input": [
      "# 2: Paying debt off in a year.\n",
      "\n",
      "init_balance = 5000\n",
      "end_balance = 5000\n",
      "balance = 5000\n",
      "annualInterestRate = 0.18\n",
      "\n",
      "minimumFixedPaymeny = 10\n",
      "step = 10\n",
      "\n",
      "while end_balance > 0: \n",
      "    minimumFixedPaymeny += step\n",
      "\n",
      "    for i in range(12):\n",
      "        balance = (balance - minimumFixedPaymeny)*(1 + 0.18/12.0)\n",
      "        end_balance = balance\n",
      "    balance = init_balance\n",
      "    \n",
      "print '- - - - - - - - - - - - - - - -'\n",
      "print 'Lowest monthly payment: $',\n",
      "print minimumFixedPaymeny"
     ],
     "language": "python",
     "metadata": {},
     "outputs": [
      {
       "output_type": "stream",
       "stream": "stdout",
       "text": [
        "- - - - - - - - - - - - - - - -\n",
        "Lowest monthly payment: $ 460\n"
       ]
      }
     ],
     "prompt_number": 8
    },
    {
     "cell_type": "code",
     "collapsed": false,
     "input": [
      "# 3: Using bisection search to make the program faster.\n",
      "\n",
      "init_balance = 5000\n",
      "end_balance = 5000\n",
      "balance = 5000\n",
      "annualInterestRate = 0.18 \n",
      "epsilon = 0.01\n",
      "\n",
      "low = init_balance/12.0\n",
      "high  = (balance*(1 + annualInterestRate/12.0)**12)/12.0\n",
      "\n",
      "minimumFixedPaymeny = ( low + high )/2.0\n",
      "\n",
      "while abs(end_balance) > epsilon: \n",
      "    for i in range(12):\n",
      "        balance = (balance - minimumFixedPaymeny)*(1 + 0.18/12.0)\n",
      "        end_balance = balance\n",
      "    balance = init_balance\n",
      "    \n",
      "    if end_balance < 0:           # If ans is too small (lower than the true value)\n",
      "        high = minimumFixedPaymeny  # Reset lower bound upwards\n",
      "        \n",
      "    else:                    # If ans is too big (greater than the true value)\n",
      "        low = minimumFixedPaymeny  # Reset upper bound downwards\n",
      "         \n",
      "    minimumFixedPaymeny = ( low + high )/2.0\n",
      "print '- - - - - - - - - - - - - - - -'    \n",
      "print 'Lowest monthly payment: $',\n",
      "print \"%.2f\" % minimumFixedPaymeny"
     ],
     "language": "python",
     "metadata": {},
     "outputs": [
      {
       "output_type": "stream",
       "stream": "stdout",
       "text": [
        "- - - - - - - - - - - - - - - -\n",
        "Lowest monthly payment: $ 451.63\n"
       ]
      }
     ],
     "prompt_number": 6
    },
    {
     "cell_type": "heading",
     "level": 2,
     "metadata": {},
     "source": [
      "Week 3"
     ]
    },
    {
     "cell_type": "heading",
     "level": 3,
     "metadata": {},
     "source": [
      "A. Recursion"
     ]
    },
    {
     "cell_type": "code",
     "collapsed": false,
     "input": [
      "# Exercise: Compare retursion against iteration. Calculate base^exp without using **. \n",
      "\n",
      "# Recursive form:\n",
      "\n",
      "def recurPower(base, exp):\n",
      "    '''\n",
      "    base: int or float.\n",
      "    exp: int >= 0\n",
      "    returns: int or float, base^exp\n",
      "    '''\n",
      "    # Base Case:\n",
      "    if exp == 0:\n",
      "        return base/base\n",
      "    \n",
      "    # Recursive Case:\n",
      "    else:\n",
      "        return base * recurPower(base, exp - 1)\n",
      "    \n",
      "recurPower(2, 3)\n"
     ],
     "language": "python",
     "metadata": {},
     "outputs": [
      {
       "metadata": {},
       "output_type": "pyout",
       "prompt_number": 39,
       "text": [
        "8"
       ]
      }
     ],
     "prompt_number": 39
    },
    {
     "cell_type": "code",
     "collapsed": false,
     "input": [
      "# Exercise: Compare retursion against iteration. Calculate base^exp without using **. \n",
      "\n",
      "# Iterative form:\n",
      "\n",
      "def iterPower(base, exp):\n",
      "    '''\n",
      "    base: int or float.\n",
      "    exp: int >= 0\n",
      "    returns: int or float, base^exp\n",
      "    '''\n",
      "    # Initialize\n",
      "    ans = 1\n",
      "    \n",
      "    # If base^0\n",
      "    if exp == 0:\n",
      "        if type(base) == int:\n",
      "            return 1\n",
      "        if type(base) == float:\n",
      "            return float(1)\n",
      "        \n",
      "    # Otherwise\n",
      "    else:\n",
      "        while exp > 0:\n",
      "            ans *=base    \n",
      "            exp -= 1    \n",
      "    return ans\n",
      "\n",
      "iterPower(2, 3)"
     ],
     "language": "python",
     "metadata": {},
     "outputs": [
      {
       "metadata": {},
       "output_type": "pyout",
       "prompt_number": 40,
       "text": [
        "8"
       ]
      }
     ],
     "prompt_number": 40
    },
    {
     "cell_type": "code",
     "collapsed": false,
     "input": [
      "# Exercise: Compare retursion against iteration. Calculate the greatest common divisor of two positive integers.\n",
      "\n",
      "# Recursive form:\n",
      "\n",
      "def gcdRecur(a, b):\n",
      "    '''\n",
      "    a, b: positive integers\n",
      "    returns: a positive integer, the greatest common divisor of a & b.\n",
      "    '''\n",
      "    # Base case:\n",
      "    if b == 0:\n",
      "        return a\n",
      "    \n",
      "    # Recursive case:\n",
      "    else:\n",
      "        return gcdRecur(b, a%b)\n",
      "    \n",
      "# Examples:            \n",
      "print gcdRecur(2, 12)"
     ],
     "language": "python",
     "metadata": {},
     "outputs": [
      {
       "output_type": "stream",
       "stream": "stdout",
       "text": [
        "2\n"
       ]
      }
     ],
     "prompt_number": 84
    },
    {
     "cell_type": "code",
     "collapsed": false,
     "input": [
      "# Exercise: Compare retursion against iteration. Calculate the greatest common divisor (gcd) of two positive integers.\n",
      "\n",
      "# Iterative form:\n",
      "\n",
      "def gcdIter(a, b):\n",
      "    '''\n",
      "    a, b: positive integers\n",
      "    returns: a positive integer, the greatest common divisor of a & b.\n",
      "    '''\n",
      "    \n",
      "    # Initializations:\n",
      "    ans = min(a,b)\n",
      "    good = a % ans == 0 and b % ans == 0\n",
      "\n",
      "    # If already one of them is the gcd:\n",
      "    if good:\n",
      "        return ans\n",
      "    \n",
      "    # Otherwise:\n",
      "    else:\n",
      "        for i in range(ans-1,0,-1):\n",
      "            if a % i == 0 and b % i == 0:\n",
      "                return i\n",
      "            # This could also had been done with a while loop of the form while ans > 1, substracting 1 at a time, and testing\n",
      "# Examples:            \n",
      "print gcdIter(2, 12)"
     ],
     "language": "python",
     "metadata": {},
     "outputs": [
      {
       "output_type": "stream",
       "stream": "stdout",
       "text": [
        "2\n"
       ]
      }
     ],
     "prompt_number": 85
    },
    {
     "cell_type": "code",
     "collapsed": false,
     "input": [
      "# The Towers of Hanoi: There are 3 towers and we have to move n size-ordered disks from one to another without order inversion\n",
      "\n",
      "def printMove(n, fr, to):  # We use 'fr' instead of 'from' because 'from' is forbidden in Python\n",
      "    ''' fr is the tower we want to move from, \n",
      "    to is the tower we want to move to'''\n",
      "    print 'Move ' + str(n) + ' disk from ' + str(fr) + 'to ' + str(to)\n",
      "    \n",
      "def Towers(n, fr, to, spare):\n",
      "    ''' n is the number of disks,\n",
      "    fr, to, spare are the three towers\n",
      "    spare is the spare tower'''\n",
      "    \n",
      "    # Base case:\n",
      "    if n == 1:  # If there is only one disk then it is easy...\n",
      "        return printMove(n, fr, to) # We just move it directly to the to tower\n",
      "    \n",
      "    # Recursive case:\n",
      "    else:\n",
      "        Towers(n-1, fr, spare, to)\n",
      "        Towers(1, fr, to, spare)\n",
      "        Towers(n-1, spare, to, fr)\n",
      "        \n",
      "# Example:\n",
      "Towers(2, 'Start ', 'End ', 'Spare ')"
     ],
     "language": "python",
     "metadata": {},
     "outputs": [
      {
       "output_type": "stream",
       "stream": "stdout",
       "text": [
        "Move 1 disk from Start to Spare \n",
        "Move 1 disk from Start to End \n",
        "Move 1 disk from Spare to End \n"
       ]
      }
     ],
     "prompt_number": 95
    },
    {
     "cell_type": "code",
     "collapsed": false,
     "input": [
      "# The Fibonacci Numbers (1, 1, 2, 3, 5, 8, 13, ...) both fib[0]=1 and fib[1] = 1, but fib[2] = 2, fib[3] = 3 ... fib[x]?\n",
      "\n",
      "def fib(x):\n",
      "    '''assumes x an int >= 0\n",
      "       returns x-th Fibonacci number'''\n",
      "    \n",
      "    assert type(x) == int and x>=0    # Check if the assumptions on x for the functions to work are satisfied\n",
      "    \n",
      "    # Base cases: \n",
      "    if x == 0 or x == 1:\n",
      "        return 1     # both fib[0]=1 and fib[1] = 1\n",
      "    \n",
      "    # Recursive case: \n",
      "    else:\n",
      "        return fib(x-1) + fib(x-2)   # Return the sum of the two previous numbers... which themselves are found recusively\n",
      "\n",
      "fib(20)"
     ],
     "language": "python",
     "metadata": {},
     "outputs": [
      {
       "metadata": {},
       "output_type": "pyout",
       "prompt_number": 4,
       "text": [
        "10946"
       ]
      }
     ],
     "prompt_number": 4
    },
    {
     "cell_type": "code",
     "collapsed": false,
     "input": [
      "# Check whether a string of characters in a palindrome (i.e. reads the same forwards and backwards):\n",
      "\n",
      "def isPalindrome(s):\n",
      "    \n",
      "    # Step 1: Reduce all characters to lower cases\n",
      "    s = s.lower()\n",
      "    \n",
      "    # Step 2: Take out all the spaces and punctuations\n",
      "    s_temp = \"\"\n",
      "    for i in s:\n",
      "        if i in \"abcdefghijklmnopqrstwxyz\":\n",
      "            s_temp += i\n",
      "    s = s_temp\n",
      "    \n",
      "    # Base case:\n",
      "    if len(s) <= 1: # If the string has no characters or only one, it is a palindrome\n",
      "        return True \n",
      "    else:           # Otherwise, if the first and the last characters are the same, we can cut them out and apply the recursion\n",
      "        return s[0] == s[-1] and isPalindrome(s[1:-1])\n",
      "\n",
      "# Examples:\n",
      "\n",
      "isPalindrome(\"Are we not drawn onward, we few, drawn onward to new era?\")\n",
      "isPalindrome(\"Able was I ere I saw Elba\")"
     ],
     "language": "python",
     "metadata": {},
     "outputs": [
      {
       "metadata": {},
       "output_type": "pyout",
       "prompt_number": 11,
       "text": [
        "True"
       ]
      }
     ],
     "prompt_number": 11
    },
    {
     "cell_type": "code",
     "collapsed": false,
     "input": [
      "#  Recursive function computes the length of a string, by counting up the number of characters in the string\n",
      "def lenRecur(aStr):\n",
      "    '''\n",
      "    aStr: a string\n",
      "    returns: int, the length of aStr\n",
      "    '''\n",
      "    # Your code here\n",
      "    if aStr == '':\n",
      "        return 0\n",
      "    else:\n",
      "        aStr = aStr[1:]\n",
      "        return 1 + lenRecur(aStr)\n",
      "    \n",
      "lenRecur(\"starwars\")"
     ],
     "language": "python",
     "metadata": {},
     "outputs": [
      {
       "metadata": {},
       "output_type": "pyout",
       "prompt_number": 21,
       "text": [
        "8"
       ]
      }
     ],
     "prompt_number": 21
    },
    {
     "cell_type": "code",
     "collapsed": false,
     "input": [],
     "language": "python",
     "metadata": {},
     "outputs": []
    },
    {
     "cell_type": "heading",
     "level": 3,
     "metadata": {},
     "source": [
      "B. Objects"
     ]
    },
    {
     "cell_type": "code",
     "collapsed": false,
     "input": [],
     "language": "python",
     "metadata": {},
     "outputs": []
    },
    {
     "cell_type": "heading",
     "level": 3,
     "metadata": {},
     "source": [
      "Problem Set #3"
     ]
    },
    {
     "cell_type": "code",
     "collapsed": false,
     "input": [
      "# 1: "
     ],
     "language": "python",
     "metadata": {},
     "outputs": []
    },
    {
     "cell_type": "heading",
     "level": 2,
     "metadata": {},
     "source": [
      "Week 4"
     ]
    },
    {
     "cell_type": "heading",
     "level": 3,
     "metadata": {},
     "source": [
      "A. Debugging"
     ]
    },
    {
     "cell_type": "heading",
     "level": 3,
     "metadata": {},
     "source": [
      "B. Assertions and Exceptions"
     ]
    },
    {
     "cell_type": "heading",
     "level": 3,
     "metadata": {},
     "source": [
      "Problem Set #4"
     ]
    },
    {
     "cell_type": "code",
     "collapsed": false,
     "input": [
      "# 1:"
     ],
     "language": "python",
     "metadata": {},
     "outputs": []
    },
    {
     "cell_type": "heading",
     "level": 2,
     "metadata": {},
     "source": [
      "Week 5"
     ]
    },
    {
     "cell_type": "heading",
     "level": 3,
     "metadata": {},
     "source": [
      "A. Efficiency and Orders of Growth"
     ]
    },
    {
     "cell_type": "heading",
     "level": 3,
     "metadata": {},
     "source": [
      "B. Memory and Search"
     ]
    },
    {
     "cell_type": "heading",
     "level": 3,
     "metadata": {},
     "source": [
      "Problem Set #5"
     ]
    },
    {
     "cell_type": "code",
     "collapsed": false,
     "input": [
      "# 1:"
     ],
     "language": "python",
     "metadata": {},
     "outputs": []
    },
    {
     "cell_type": "heading",
     "level": 2,
     "metadata": {},
     "source": [
      "Week 6"
     ]
    },
    {
     "cell_type": "heading",
     "level": 3,
     "metadata": {},
     "source": [
      "A. Classes"
     ]
    },
    {
     "cell_type": "heading",
     "level": 3,
     "metadata": {},
     "source": [
      "B. Object Oriented Programming and Inheritance"
     ]
    },
    {
     "cell_type": "heading",
     "level": 3,
     "metadata": {},
     "source": [
      "Problem Set #6"
     ]
    },
    {
     "cell_type": "code",
     "collapsed": false,
     "input": [
      "# 1:"
     ],
     "language": "python",
     "metadata": {},
     "outputs": []
    },
    {
     "cell_type": "heading",
     "level": 2,
     "metadata": {},
     "source": [
      "Week 7"
     ]
    },
    {
     "cell_type": "heading",
     "level": 3,
     "metadata": {},
     "source": [
      "A. Trees "
     ]
    },
    {
     "cell_type": "heading",
     "level": 3,
     "metadata": {},
     "source": [
      "B. Wrap-up"
     ]
    },
    {
     "cell_type": "heading",
     "level": 3,
     "metadata": {},
     "source": [
      "Problem Set #7"
     ]
    },
    {
     "cell_type": "code",
     "collapsed": false,
     "input": [
      "# 1:"
     ],
     "language": "python",
     "metadata": {},
     "outputs": []
    }
   ],
   "metadata": {}
  }
 ]
}