{
 "metadata": {
  "name": "",
  "signature": "sha256:e7e90a435a610adf56b55ae70b4ab0f38abe2ad493f71bd84ba7df6d3cc5edf2"
 },
 "nbformat": 3,
 "nbformat_minor": 0,
 "worksheets": [
  {
   "cells": [
    {
     "cell_type": "heading",
     "level": 1,
     "metadata": {},
     "source": [
      "6.00.1x Introduction to Computer Science and Programming Using Python"
     ]
    },
    {
     "cell_type": "heading",
     "level": 6,
     "metadata": {},
     "source": [
      "MITx (Summer 2015) "
     ]
    },
    {
     "cell_type": "heading",
     "level": 2,
     "metadata": {},
     "source": [
      "Martin Aragoneses "
     ]
    },
    {
     "cell_type": "markdown",
     "metadata": {},
     "source": [
      "All the codes (including lecture exercises, problem sets and quizzes) in this notebook have been written or modified by me. I've converted some of the codes in the lecture to Python 2.7, the version that I use. They are meant to be proof of my command of the materials covered in the course and to serve for future reference for myself and for others. I am publishing this notebook and other files in my GitHub repository (https://github.com/martinaragoneses). "
     ]
    },
    {
     "cell_type": "heading",
     "level": 2,
     "metadata": {},
     "source": [
      "Week 1"
     ]
    },
    {
     "cell_type": "code",
     "collapsed": false,
     "input": [
      "# The two variables are given \n",
      "    # It may be strings or not\n",
      "varA = 6 \n",
      "varB = \"Six\"\n",
      "if type(varA) == type(\"str\") or type(varB) == type(\"str\"):\n",
      "    print 'string involved'\n",
      "else:\n",
      "    if varA > varB:\n",
      "        print 'bigger'\n",
      "    elif varA == varB:\n",
      "        print 'equal'\n",
      "    elif varA < varB:\n",
      "        print 'smaller'"
     ],
     "language": "python",
     "metadata": {},
     "outputs": [
      {
       "output_type": "stream",
       "stream": "stdout",
       "text": [
        "string involved\n"
       ]
      }
     ],
     "prompt_number": 12
    },
    {
     "cell_type": "heading",
     "level": 2,
     "metadata": {},
     "source": [
      "Week 2"
     ]
    },
    {
     "cell_type": "heading",
     "level": 3,
     "metadata": {},
     "source": [
      "A. Simple Algorithms"
     ]
    },
    {
     "cell_type": "code",
     "collapsed": false,
     "input": [
      "# Repetitive addition\n",
      "x = 3\n",
      "ans = 0\n",
      "itersLeft = x\n",
      "while itersLeft != 0:\n",
      "    ans = ans + x\n",
      "    itersLeft = itersLeft -1\n",
      "print str(x) + '*' + str(x) + ' = ' +str(ans)"
     ],
     "language": "python",
     "metadata": {},
     "outputs": [
      {
       "output_type": "stream",
       "stream": "stdout",
       "text": [
        "3*3 = 9\n"
       ]
      }
     ],
     "prompt_number": 12
    },
    {
     "cell_type": "code",
     "collapsed": false,
     "input": [
      "# Find the cube root of a perfect cube \n",
      "    # Detect if it is not a perfect cube\n",
      "    \n",
      "x = int(raw_input('Enter an integer: '))   # We want to find the cube root of x\n",
      "ans = 0             # We initialize this cube root to be found (assumed to be an integer)\n",
      "\n",
      "while ans**3 < x:   # While ans^3 falls short form x, we keep increasing ans until...\n",
      "    ans = ans + 1\n",
      "    \n",
      "if ans**3 == x:     # ... We hit the number we were looking for (ans = x^(1/3)) ...\n",
      "    print 'Cube root of ' + str(x) + ' is ' + str(ans)\n",
      "    \n",
      "else:               # ... or there is not integer such that ans = x^(1/3), that is, it is not a perfect cube\n",
      "    print str(x) + ' is not a perfect cube '"
     ],
     "language": "python",
     "metadata": {},
     "outputs": [
      {
       "name": "stdout",
       "output_type": "stream",
       "stream": "stdout",
       "text": [
        "Enter an integer: 28\n"
       ]
      },
      {
       "output_type": "stream",
       "stream": "stdout",
       "text": [
        "28 is not a perfect cube \n"
       ]
      }
     ],
     "prompt_number": 13
    },
    {
     "cell_type": "code",
     "collapsed": false,
     "input": [
      "# Plain search algorithm for a square root\n",
      "    # Guess-Check-Update until a result is found or we go over\n",
      "        \n",
      "x = 25              # Number whose square root we are after\n",
      "epsilon = 0.01      # Small difference for test\n",
      "step = epsilon**2   # Small step used for updating if test fails\n",
      "numGuesses = 0      # Initialize to keep track of efficiency\n",
      "ans = 0.0           # Initialize the square root we are looking for  (note it is a float)\n",
      "\n",
      "while  abs(ans**2 - x) >= epsilon and ans <= x:  # While the difference between the approximate and actual square is too big...\n",
      "                                                 # ... greater than epsilon, and we are not geing over the upper bound x...\n",
      "    ans += step     # Make ans take a small incrementing step \n",
      "    numGuesses += 1 # Keeping track of the number of guesses\n",
      "    \n",
      "print 'numGuesses = ' + str(numGuesses)\n",
      "\n",
      "if abs(ans**2-x) < epsilon:\n",
      "    print str(ans) + ' is close to the square root of ' + str(x)\n",
      "    \n",
      "else:               # We screwed up  and went over and > x while still the difference was too large abs(ans^2-x) >= epsilon:\n",
      "    print 'Failed on square root of ' + str(x)"
     ],
     "language": "python",
     "metadata": {},
     "outputs": [
      {
       "output_type": "stream",
       "stream": "stdout",
       "text": [
        "numGuesses = 49990\n",
        "4.999 is close to the square root of 25\n"
       ]
      }
     ],
     "prompt_number": 25
    },
    {
     "cell_type": "code",
     "collapsed": false,
     "input": [
      "# Bisection search algorithm for a square root\n",
      "\n",
      "x = 4            # Number whose square root we are after\n",
      "epsilon = 0.01   # Small difference for test\n",
      "numGuesses = 0   # Initialize to keep track of efficiency\n",
      "low = 0.0    # Initialize the lower bound\n",
      "high = x         # Initialize the upper bound (can't go over x)\n",
      "ans = (high + low)/2.0            # Initialize ans to be in the middle (float!)\n",
      "\n",
      "while abs(ans**2 - x) >= epsilon: # While the difference between the approximate and actual square is too big...\n",
      "    print('low = ' + str(low) + ' high = ' + str(high) + ' ans = ' + str(ans))\n",
      "    numGuesses += 1\n",
      "    \n",
      "    if ans**2 < x:           # If ans is too small (lower than the true value)\n",
      "        low = ans            # Reset lower bound upwards\n",
      "        \n",
      "    else:                    # If ans is too big (greater than the true value)\n",
      "        high = ans           # Reset upper bound downwards\n",
      "         \n",
      "    ans = (high + low)/2.0   # Update ans\n",
      "    \n",
      "# Keep updating the bounds and ans until the difference is small enough and we have reached a good approximation\n",
      "\n",
      "print('numGuesses = ' + str(numGuesses))\n",
      "print(str(ans) + ' is close to square root of ' + str(x))"
     ],
     "language": "python",
     "metadata": {},
     "outputs": [
      {
       "output_type": "stream",
       "stream": "stdout",
       "text": [
        "numGuesses = 0\n",
        "2.0 is close to square root of 4\n"
       ]
      }
     ],
     "prompt_number": 1
    },
    {
     "cell_type": "code",
     "collapsed": false,
     "input": [
      "# Exercise: Program to guess a secret bumber using a bisection search\n",
      "\n",
      "x = raw_input(\"Please think of a number between 0 and 100! \") \n",
      "\n",
      "low = 0                # Initialize the lower bound\n",
      "high = 100             # Initialize the upper bound (can't go over x)\n",
      "\n",
      "ans = (high + low)/2   # Initialize ans to be in the middle (int!)\n",
      "\n",
      "response = raw_input(\"Is your secret number \" + str(ans) + \"? Enter 'h' to indicate the guess is too high. \\\n",
      "        Enter 'l' to indicate the guess is too low. Enter 'c' to indicate I guessed correctly.\")\n",
      "\n",
      "while response != 'h' and response != 'l' and response != 'c': # If the user enters something incorrect\n",
      "    \n",
      "    print \"Sorry, I did not understand your input.\"\n",
      "    response = raw_input(\"Is your secret number \" + str(ans) + \"? Enter 'h' to indicate the guess is too high. \\\n",
      "            Enter 'l' to indicate the guess is too low. Enter 'c' to indicate I guessed correctly.\")\n",
      "    \n",
      "    if response == 'h' or response == 'l' or response == 'c':\n",
      "        break\n",
      "        \n",
      "# While we have still not guessed the correct secret number...\n",
      "while response != 'c':    # While we haven't guessed the correct number yet\n",
      "    \n",
      "    if response == 'h':   # If guess is too large\n",
      "        high = ans        # Reset upper bound downwards\n",
      "    elif response == 'l': # If guess is too small\n",
      "        low = ans         # Reset lower bound upwards\n",
      "        \n",
      "    ans = (high + low)/2  # Update the value of ans\n",
      "    \n",
      "    # Ask the user again if the new guess is correct\n",
      "    response = raw_input(\"Is your secret number \" + str(ans) + \"? Enter 'h' to indicate the guess is too high. \\\n",
      "            Enter 'l' to indicate the guess is too low. Enter 'c' to indicate I guessed correctly.\")\n",
      "\n",
      "# Once we guess the correct secret number...\n",
      "print \"Game over. Your secret number was: \" + str(ans)"
     ],
     "language": "python",
     "metadata": {},
     "outputs": [
      {
       "name": "stdout",
       "output_type": "stream",
       "stream": "stdout",
       "text": [
        "Please think of a number between 0 and 100! 5\n"
       ]
      },
      {
       "name": "stdout",
       "output_type": "stream",
       "stream": "stdout",
       "text": [
        "Is your secret number 50? Enter 'h' to indicate the guess is too high.         Enter 'l' to indicate the guess is too low. Enter 'c' to indicate I guessed correctly.h\n"
       ]
      },
      {
       "name": "stdout",
       "output_type": "stream",
       "stream": "stdout",
       "text": [
        "Is your secret number 25? Enter 'h' to indicate the guess is too high. Enter 'l' to indicate the guess is too low. Enter 'c' to indicate I guessed correctly.h\n"
       ]
      },
      {
       "name": "stdout",
       "output_type": "stream",
       "stream": "stdout",
       "text": [
        "Is your secret number 12? Enter 'h' to indicate the guess is too high. Enter 'l' to indicate the guess is too low. Enter 'c' to indicate I guessed correctly.h\n"
       ]
      },
      {
       "name": "stdout",
       "output_type": "stream",
       "stream": "stdout",
       "text": [
        "Is your secret number 6? Enter 'h' to indicate the guess is too high. Enter 'l' to indicate the guess is too low. Enter 'c' to indicate I guessed correctly.h\n"
       ]
      },
      {
       "name": "stdout",
       "output_type": "stream",
       "stream": "stdout",
       "text": [
        "Is your secret number 3? Enter 'h' to indicate the guess is too high. Enter 'l' to indicate the guess is too low. Enter 'c' to indicate I guessed correctly.l\n"
       ]
      },
      {
       "name": "stdout",
       "output_type": "stream",
       "stream": "stdout",
       "text": [
        "Is your secret number 4? Enter 'h' to indicate the guess is too high. Enter 'l' to indicate the guess is too low. Enter 'c' to indicate I guessed correctly.l\n"
       ]
      },
      {
       "name": "stdout",
       "output_type": "stream",
       "stream": "stdout",
       "text": [
        "Is your secret number 5? Enter 'h' to indicate the guess is too high. Enter 'l' to indicate the guess is too low. Enter 'c' to indicate I guessed correctly.c\n"
       ]
      },
      {
       "output_type": "stream",
       "stream": "stdout",
       "text": [
        "Game over. Your secret number was: 5\n"
       ]
      }
     ],
     "prompt_number": 17
    },
    {
     "cell_type": "code",
     "collapsed": false,
     "input": [
      "# Newton-Raphson search algorithm for square root\n",
      "\n",
      "epsilon = 0.01\n",
      "y = 24.0\n",
      "guess = y/2.0\n",
      "\n",
      "while abs(guess**2 - y) >= epsilon:\n",
      "    guess = guess - (((guess**2) - y)/(2*guess))\n",
      "    print(guess)\n",
      "    \n",
      "print('Square root of ' + str(y) + ' is about ' + str(guess))"
     ],
     "language": "python",
     "metadata": {},
     "outputs": [
      {
       "output_type": "stream",
       "stream": "stdout",
       "text": [
        "7.0\n",
        "5.21428571429\n",
        "4.90851272016\n",
        "4.89898874321\n",
        "Square root of 24.0 is about 4.89898874321\n"
       ]
      }
     ],
     "prompt_number": 9
    },
    {
     "cell_type": "heading",
     "level": 3,
     "metadata": {},
     "source": [
      "B. Functions"
     ]
    },
    {
     "cell_type": "code",
     "collapsed": false,
     "input": [
      "# Function that uses bisection search algorithm to find a p-th root\n",
      "def root_p(x, p, epsilon):\n",
      "    ''' This is a function that returns an approximation of the root p of a number x,\n",
      "        it takes the following arguments:\n",
      "        x: int or float\n",
      "        p > 1: power\n",
      "        epsilon > 0: small, defines distance\n",
      "    '''\n",
      "    # If we have a negative number:\n",
      "    if x < 0 and p%2 == 0: # can't find even powered root\n",
      "        return None\n",
      "    # Initializations\n",
      "    low = min(-1.0, x)   # max/min takes care of negatives\n",
      "    high = max(1.0, x)   # -/+ 1.0 takes care of numbers between 0 and 1\n",
      "    ans = (high+low)/2.0 # Initialize ans to be in the middle (float!)\n",
      "    \n",
      "    while abs(ans**p - x) > epsilon: # While the difference between the approximate and actual power is too big...\n",
      "        \n",
      "        if ans**p < x:       # If ans is too small (lower than the true value)\n",
      "            low = ans        # Reset lower bound upwards\n",
      "        else:                # If ans is too big (greater than the true value)\n",
      "            high = ans       # Reset upper bound downwards\n",
      "            \n",
      "        ans = (high+low)/2.0 # Update ans\n",
      "        \n",
      "    return ans          # The function returns the approximation of the p-th root\n",
      "\n",
      "# Example: \n",
      "print root_p(25.0, 2, .001)"
     ],
     "language": "python",
     "metadata": {},
     "outputs": [
      {
       "output_type": "stream",
       "stream": "stdout",
       "text": [
        "4.99992370605\n"
       ]
      }
     ],
     "prompt_number": 2
    },
    {
     "cell_type": "code",
     "collapsed": false,
     "input": [
      "# The function isVowel(char) returns True if char is a vowel ('a', 'e', 'i', 'o', or 'u') - capitalized or not\n",
      "def isVowel(char):\n",
      "    '''\n",
      "        char: a single letter of any case\n",
      "        returns: True if char is a vowel and False otherwise.\n",
      "    '''\n",
      "    # Your code here\n",
      "    return char.lower() in \"aeiou\".lower()\n",
      "# It could also had been done using    return (char.lower() == 'a') or (char.lower()== 'e') or (char.lower() == 'i') \\\n",
      "#                                            or (char.lower() == 'o') or (char.lower() == 'u') \n",
      "# Example: \n",
      "print isVowel(\"e\")"
     ],
     "language": "python",
     "metadata": {},
     "outputs": [
      {
       "output_type": "stream",
       "stream": "stdout",
       "text": [
        "True\n"
       ]
      }
     ],
     "prompt_number": 10
    },
    {
     "cell_type": "markdown",
     "metadata": {},
     "source": [
      "Ways to import functions from the outside:\n",
      "\n",
      "(1)  import lib \n",
      "\n",
      "And then you have to use dot.notation to use functions within the library\n",
      "\n",
      "For example: \n",
      "\n",
      "print lib.function(x)\n",
      "\n",
      "print lib.variable\n",
      "\n",
      "(2) from lib import *\n",
      "\n",
      "Imports all the functions form lib\n",
      "\n",
      "(3) from lib import funtion\n",
      "\n"
     ]
    },
    {
     "cell_type": "code",
     "collapsed": false,
     "input": [
      "str = \"exterminate!\"\n",
      "print str.swapcase()\n",
      "print str.index('e')\n",
      "print str.find('e')\n",
      "print str.rfind('e')\n",
      "print str.partition('e')\n",
      "print str.find('min')\n",
      "print str.replace('e', '*')\n",
      "print str.count('te')"
     ],
     "language": "python",
     "metadata": {},
     "outputs": [
      {
       "output_type": "stream",
       "stream": "stdout",
       "text": [
        "EXTERMINATE!\n",
        "0\n",
        "0\n",
        "10\n",
        "3\n",
        "('', 'e', 'xterminate!')\n",
        "5\n",
        "*xt*rminat*!\n",
        "2\n"
       ]
      }
     ],
     "prompt_number": 52
    },
    {
     "cell_type": "heading",
     "level": 3,
     "metadata": {},
     "source": [
      "Problem Set #1"
     ]
    },
    {
     "cell_type": "code",
     "collapsed": false,
     "input": [
      "# 1: Write a program that counts up the number of vowels contained in the string s.\n",
      "s = 'azcbobobegghakl'\n",
      "count = 0\n",
      "for i in s:\n",
      "    if i == 'a' or i == 'e' or \\\n",
      "    i == 'i' or i == 'o' or i == 'u':\n",
      "        count += 1      \n",
      "print 'Number of vowels: ' + str(count)"
     ],
     "language": "python",
     "metadata": {},
     "outputs": [
      {
       "output_type": "stream",
       "stream": "stdout",
       "text": [
        "Number of vowels: 5\n"
       ]
      }
     ],
     "prompt_number": 13
    },
    {
     "cell_type": "code",
     "collapsed": false,
     "input": [
      "# 2: Write a program that prints the number of times the string 'bob' occurs in s.\n",
      "s = 'azcbobobegghakl'\n",
      "def count_bob(s):\n",
      "    count = 0 \n",
      "    for i in s:\n",
      "        if s.index(i) + 2 <= len(s) - 1:\n",
      "            if s[s.index(i) -1 : s.index(i) + 2] == 'bob':\n",
      "                count += 1 \n",
      "    return count\n",
      "print 'Number of times bob occurs is:', count_bob(s)"
     ],
     "language": "python",
     "metadata": {},
     "outputs": [
      {
       "output_type": "stream",
       "stream": "stdout",
       "text": [
        "Number of times bob occurs is: 2\n"
       ]
      }
     ],
     "prompt_number": 112
    },
    {
     "cell_type": "code",
     "collapsed": false,
     "input": [
      "# 3: (HARD) Write a program that prints the longest substring of s in which the letters occur in alphabetical order.\n",
      "        # In the case of ties, print the first substring.   \n",
      "s = 'azcbobobegghakl'\n",
      "alphabet = \"abcdefghijklmnopqrstuvwxyz\"\n",
      "for i in s:\n",
      "    str_i = i\n",
      "    #for j in alphabet:\n",
      "    "
     ],
     "language": "python",
     "metadata": {},
     "outputs": [],
     "prompt_number": 159
    },
    {
     "cell_type": "heading",
     "level": 3,
     "metadata": {},
     "source": [
      "Problem Set #2"
     ]
    },
    {
     "cell_type": "code",
     "collapsed": false,
     "input": [
      "# 1: Paying the minimum.\n",
      "\n",
      "balance = 5000\n",
      "annualInterestRate = 0.18\n",
      "monthlyPaymentRate = 0.02\n",
      "paid = 0\n",
      "\n",
      "for i in range(12):\n",
      "    print 'Month: ', i + 1\n",
      "    print 'Minimum monthly payment: ', \n",
      "    print \"%.2f\" % (balance*monthlyPaymentRate)\n",
      "    paid += balance*monthlyPaymentRate\n",
      "    balance = (balance - balance*monthlyPaymentRate)*(1 + 0.18/12.0)\n",
      "    print 'Remaining balance',\n",
      "    print \"%.2f\" % balance\n",
      "print '- - - - - - - - - - - - - - - -'\n",
      "print 'Total paid: $',\n",
      "print \"%.2f\" % paid\n",
      "print 'Remaining balance: $',\n",
      "print \"%.2f\" % balance\n"
     ],
     "language": "python",
     "metadata": {},
     "outputs": [
      {
       "output_type": "stream",
       "stream": "stdout",
       "text": [
        "Month:  1\n",
        "Minimum monthly payment:  100.00\n",
        "Remaining balance 4973.50\n",
        "Month:  2\n",
        "Minimum monthly payment:  99.47\n",
        "Remaining balance 4947.14\n",
        "Month:  3\n",
        "Minimum monthly payment:  98.94\n",
        "Remaining balance 4920.92\n",
        "Month:  4\n",
        "Minimum monthly payment:  98.42\n",
        "Remaining balance 4894.84\n",
        "Month:  5\n",
        "Minimum monthly payment:  97.90\n",
        "Remaining balance 4868.90\n",
        "Month:  6\n",
        "Minimum monthly payment:  97.38\n",
        "Remaining balance 4843.09\n",
        "Month:  7\n",
        "Minimum monthly payment:  96.86\n",
        "Remaining balance 4817.42\n",
        "Month:  8\n",
        "Minimum monthly payment:  96.35\n",
        "Remaining balance 4791.89\n",
        "Month:  9\n",
        "Minimum monthly payment:  95.84\n",
        "Remaining balance 4766.49\n",
        "Month:  10\n",
        "Minimum monthly payment:  95.33\n",
        "Remaining balance 4741.23\n",
        "Month:  11\n",
        "Minimum monthly payment:  94.82\n",
        "Remaining balance 4716.10\n",
        "Month:  12\n",
        "Minimum monthly payment:  94.32\n",
        "Remaining balance 4691.11\n",
        "- - - - - - - - - - - - - - - -\n",
        "Total paid: $ 1165.63\n",
        "Remaining balance: $ 4691.11\n"
       ]
      }
     ],
     "prompt_number": 3
    },
    {
     "cell_type": "code",
     "collapsed": false,
     "input": [
      "# 2: Paying debt off in a year.\n",
      "\n",
      "init_balance = 5000\n",
      "end_balance = 5000\n",
      "balance = 5000\n",
      "annualInterestRate = 0.18\n",
      "\n",
      "minimumFixedPaymeny = 10\n",
      "step = 10\n",
      "\n",
      "while end_balance > 0: \n",
      "    minimumFixedPaymeny += step\n",
      "\n",
      "    for i in range(12):\n",
      "        balance = (balance - minimumFixedPaymeny)*(1 + 0.18/12.0)\n",
      "        end_balance = balance\n",
      "    balance = init_balance\n",
      "print '- - - - - - - - - - - - - - - -'\n",
      "print 'Lowest monthly payment: $',\n",
      "print minimumFixedPaymeny"
     ],
     "language": "python",
     "metadata": {},
     "outputs": [
      {
       "output_type": "stream",
       "stream": "stdout",
       "text": [
        "- - - - - - - - - - - - - - - -\n",
        "Lowest monthly payment: $ 460\n"
       ]
      }
     ],
     "prompt_number": 8
    },
    {
     "cell_type": "code",
     "collapsed": false,
     "input": [
      "# 3: Using bisection search to make the program faster.\n",
      "\n",
      "init_balance = 5000\n",
      "end_balance = 5000\n",
      "balance = 5000\n",
      "annualInterestRate = 0.18 \n",
      "epsilon = 0.01\n",
      "\n",
      "low = init_balance/12.0\n",
      "high  = (balance*(1 + annualInterestRate/12.0)**12)/12.0\n",
      "\n",
      "minimumFixedPaymeny = ( low + high )/2.0\n",
      "\n",
      "while abs(end_balance) > epsilon: \n",
      "    for i in range(12):\n",
      "        balance = (balance - minimumFixedPaymeny)*(1 + 0.18/12.0)\n",
      "        end_balance = balance\n",
      "    balance = init_balance\n",
      "    \n",
      "    if end_balance < 0:           # If ans is too small (lower than the true value)\n",
      "        high = minimumFixedPaymeny  # Reset lower bound upwards\n",
      "        \n",
      "    else:                    # If ans is too big (greater than the true value)\n",
      "        low = minimumFixedPaymeny  # Reset upper bound downwards\n",
      "         \n",
      "    minimumFixedPaymeny = ( low + high )/2.0\n",
      "print '- - - - - - - - - - - - - - - -'    \n",
      "print 'Lowest monthly payment: $',\n",
      "print \"%.2f\" % minimumFixedPaymeny"
     ],
     "language": "python",
     "metadata": {},
     "outputs": [
      {
       "output_type": "stream",
       "stream": "stdout",
       "text": [
        "- - - - - - - - - - - - - - - -\n",
        "Lowest monthly payment: $ 451.63\n"
       ]
      }
     ],
     "prompt_number": 6
    },
    {
     "cell_type": "heading",
     "level": 2,
     "metadata": {},
     "source": [
      "Week 3"
     ]
    },
    {
     "cell_type": "heading",
     "level": 3,
     "metadata": {},
     "source": [
      "A. Recursion"
     ]
    },
    {
     "cell_type": "heading",
     "level": 3,
     "metadata": {},
     "source": [
      "B. Objects"
     ]
    },
    {
     "cell_type": "heading",
     "level": 3,
     "metadata": {},
     "source": [
      "Problem Set #3"
     ]
    },
    {
     "cell_type": "code",
     "collapsed": false,
     "input": [
      "# 1: "
     ],
     "language": "python",
     "metadata": {},
     "outputs": []
    },
    {
     "cell_type": "heading",
     "level": 2,
     "metadata": {},
     "source": [
      "Week 4"
     ]
    },
    {
     "cell_type": "heading",
     "level": 3,
     "metadata": {},
     "source": [
      "A. Debugging"
     ]
    },
    {
     "cell_type": "heading",
     "level": 3,
     "metadata": {},
     "source": [
      "B. Assertions and Exceptions"
     ]
    },
    {
     "cell_type": "heading",
     "level": 3,
     "metadata": {},
     "source": [
      "Problem Set #4"
     ]
    },
    {
     "cell_type": "code",
     "collapsed": false,
     "input": [
      "# 1:"
     ],
     "language": "python",
     "metadata": {},
     "outputs": []
    },
    {
     "cell_type": "heading",
     "level": 2,
     "metadata": {},
     "source": [
      "Week 5"
     ]
    },
    {
     "cell_type": "heading",
     "level": 3,
     "metadata": {},
     "source": [
      "A. Efficiency and Orders of Growth"
     ]
    },
    {
     "cell_type": "heading",
     "level": 3,
     "metadata": {},
     "source": [
      "B. Memory and Search"
     ]
    },
    {
     "cell_type": "heading",
     "level": 3,
     "metadata": {},
     "source": [
      "Problem Set #5"
     ]
    },
    {
     "cell_type": "code",
     "collapsed": false,
     "input": [
      "# 1:"
     ],
     "language": "python",
     "metadata": {},
     "outputs": []
    },
    {
     "cell_type": "heading",
     "level": 2,
     "metadata": {},
     "source": [
      "Week 6"
     ]
    },
    {
     "cell_type": "heading",
     "level": 3,
     "metadata": {},
     "source": [
      "A. Classes"
     ]
    },
    {
     "cell_type": "heading",
     "level": 3,
     "metadata": {},
     "source": [
      "B. Object Oriented Programming and Inheritance"
     ]
    },
    {
     "cell_type": "heading",
     "level": 3,
     "metadata": {},
     "source": [
      "Problem Set #6"
     ]
    },
    {
     "cell_type": "code",
     "collapsed": false,
     "input": [
      "# 1:"
     ],
     "language": "python",
     "metadata": {},
     "outputs": []
    },
    {
     "cell_type": "heading",
     "level": 2,
     "metadata": {},
     "source": [
      "Week 7"
     ]
    },
    {
     "cell_type": "heading",
     "level": 3,
     "metadata": {},
     "source": [
      "A. Trees "
     ]
    },
    {
     "cell_type": "heading",
     "level": 3,
     "metadata": {},
     "source": [
      "B. Wrap-up"
     ]
    },
    {
     "cell_type": "heading",
     "level": 3,
     "metadata": {},
     "source": [
      "Problem Set #7"
     ]
    },
    {
     "cell_type": "code",
     "collapsed": false,
     "input": [
      "# 1:"
     ],
     "language": "python",
     "metadata": {},
     "outputs": []
    }
   ],
   "metadata": {}
  }
 ]
}