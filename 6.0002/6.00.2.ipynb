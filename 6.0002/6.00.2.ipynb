{
 "metadata": {
  "name": "",
  "signature": "sha256:6186e5d89ecd1b523a0ab9d62b19c8df681d6575251f5933e82c3365815d24c4"
 },
 "nbformat": 3,
 "nbformat_minor": 0,
 "worksheets": [
  {
   "cells": [
    {
     "cell_type": "heading",
     "level": 1,
     "metadata": {},
     "source": [
      "6.00.2 Introduction to Computational Thinking and Data Science"
     ]
    },
    {
     "cell_type": "heading",
     "level": 6,
     "metadata": {},
     "source": [
      "MIT Open Course Ware (Summer 2015)"
     ]
    },
    {
     "cell_type": "heading",
     "level": 2,
     "metadata": {},
     "source": [
      "Martin Aragoneses"
     ]
    },
    {
     "cell_type": "markdown",
     "metadata": {},
     "source": [
      "All the codes (including lecture exercises, problem sets and quizzes) in this notebook have been written or modified by me. I've converted some of the codes in the lecture to Python 2.7, the version that I use. They are meant to be proof of my command of the materials covered in the course and to serve for future reference for myself and for others. I am publishing this notebook and other files in my GitHub repository (https://github.com/martinaragoneses)."
     ]
    },
    {
     "cell_type": "code",
     "collapsed": false,
     "input": [],
     "language": "python",
     "metadata": {},
     "outputs": []
    }
   ],
   "metadata": {}
  }
 ]
}